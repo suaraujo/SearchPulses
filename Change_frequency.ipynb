{
 "cells": [
  {
   "cell_type": "code",
   "execution_count": 1,
   "id": "20e94db0-5512-48b3-9875-80b5ac09a472",
   "metadata": {},
   "outputs": [],
   "source": [
    "from rich.pretty import Pretty\n",
    "from sigpyproc.readers import FilReader\n",
    "from your.formats.filwriter import make_sigproc_object\n",
    "from your import Your, Writer\n",
    "import os\n",
    "import numpy as np\n",
    "import tempfile\n",
    "from urllib.request import urlretrieve"
   ]
  },
  {
   "cell_type": "markdown",
   "id": "aa317bdd-a14e-4add-9f61-3853408112e5",
   "metadata": {},
   "source": [
    "### Header form original file (the original header of the observation, that specifies the central frequency, etc etc)"
   ]
  },
  {
   "cell_type": "markdown",
   "id": "b7237182-a34c-4eaf-891b-37808c9a6910",
   "metadata": {},
   "source": [
    "Header read with readfile from PRESTO\n",
    "\n",
    "1: From the SIGPROC filterbank file 'ds8192_J1810-197_A2_20220929_180235.fil':\n",
    "Telescope = IAR1\n",
    "\n",
    "Source Name = J1810-197_A2\n",
    "\n",
    "Backend = Ettus-B205\n",
    "\n",
    "Obs Date String = 2022-09-29T21:02:38\n",
    "\n",
    "MJD start time = 59851.87682870370190\n",
    "\n",
    "RA J2000 = 18:09:51.0800\n",
    "\n",
    "RA J2000 (deg) = 272.462833333333 \n",
    "\n",
    "Dec J2000 = -19:43:51.9300\n",
    "\n",
    "Dec J2000 (deg) = -19.7310916666667\n",
    "\n",
    "Tracking? = True\n",
    "\n",
    "Azimuth (deg) = 0\n",
    "\n",
    "Zenith Ang (deg) = 0\n",
    "\n",
    "Number of polns = 2 (summed)\n",
    "\n",
    "Sample time (us) = 146.285714285714\n",
    "\n",
    "Central freq (MHz) = 1428.875 \n",
    "\n",
    "Low channel (MHz) = 1401.75  \n",
    "\n",
    "High channel (MHz) = 1456\n",
    "Channel width (MHz) = 1.75             \n",
    "\n",
    "Number of channels = 32\n",
    "Total Bandwidth (MHz) = 56\n",
    "\n",
    "Beam = 1 of 1\n",
    "\n",
    "Beam FWHM (deg) = 1.000\n",
    "\n",
    "Spectra per subint = 480\n",
    "\n",
    "Spectra per file = 58195968\n",
    "\n",
    "Time per subint (sec) = 0.0702171428571\n",
    "\n",
    "Time per file (sec) = 8513.23874743\n",
    "\n",
    "bits per sample = 32\n",
    "\n",
    "bytes per spectra = 128\n",
    "samples per spectra = 32\n",
    "\n",
    "bytes per subint = 61440\n",
    "\n",
    "samples per subint = 15360\n",
    "\n",
    "zero offset = 0\n",
    "\n",
    "Invert the band? = False\n",
    "\n",
    "bytes in file header = 385\n",
    "\n"
   ]
  },
  {
   "cell_type": "code",
   "execution_count": null,
   "id": "0d911205-6998-4949-bc8d-a97ad6b197e3",
   "metadata": {},
   "outputs": [],
   "source": []
  },
  {
   "cell_type": "markdown",
   "id": "358ec4c6-878a-4efc-8d1e-6bfb9b6d87c9",
   "metadata": {
    "jp-MarkdownHeadingCollapsed": true
   },
   "source": [
    "### Reading the paths"
   ]
  },
  {
   "cell_type": "code",
   "execution_count": 2,
   "id": "ad319e40-c03a-4713-a129-5b5c0e1c081b",
   "metadata": {},
   "outputs": [],
   "source": [
    "path_fil_original = 'su_2023/J1810-197_ettus/2022-09-29T21:01:02.422413_A2/filoriginal/ds8192_J1810-197_A2_20220929_180235.fil'"
   ]
  },
  {
   "cell_type": "code",
   "execution_count": 3,
   "id": "9ae9c831-7ed2-41da-ad2c-bf22b1b6e840",
   "metadata": {},
   "outputs": [],
   "source": [
    "path_your = 'su_2023/J1810-197_ettus/2022-09-29T21:01:02.422413_A2/filoriginal/filfromfil1.fil'"
   ]
  },
  {
   "cell_type": "markdown",
   "id": "44aa18b0-a8a4-4976-b67d-b6c1a545e236",
   "metadata": {},
   "source": [
    "### Reading the files and triying to invert them with sigpyproc"
   ]
  },
  {
   "cell_type": "code",
   "execution_count": 63,
   "id": "0b70f498-4280-448f-a802-402306d408f5",
   "metadata": {},
   "outputs": [],
   "source": [
    "filoriginal = FilReader(path_fil_original)  #this is the original file\n",
    "filyour = FilReader(path_your)   #This is one that I made with your, supposelly with the inverted band, but the fch1 channel is wrong, is at 1510 MHz"
   ]
  },
  {
   "cell_type": "markdown",
   "id": "e5a908e5-324a-488c-8968-59b74d8902d3",
   "metadata": {},
   "source": [
    "The original file has foff=1.75, and fch1=1456.0, and when PRESTO's waterfaller.py reads it, it thinks that fch1 is the first channel, and it should be the last one.\n",
    "\n",
    "I understand that either I have to change fch1 to be fch1=1401.75, which is the original first channel, or changing foff=-1.75. \n",
    "\n",
    "But I don't seem to be able to change just one of those settings"
   ]
  },
  {
   "cell_type": "code",
   "execution_count": 38,
   "id": "8307adeb-60d1-4873-9b7a-46c3cc1f7c03",
   "metadata": {},
   "outputs": [
    {
     "data": {
      "text/html": [
       "<pre style=\"white-space:pre;overflow-x:auto;line-height:normal;font-family:Menlo,'DejaVu Sans Mono',consolas,'Courier New',monospace\"><span style=\"color: #800080; text-decoration-color: #800080; font-weight: bold\">Header</span><span style=\"font-weight: bold\">(</span>\n",
       "    <span style=\"color: #808000; text-decoration-color: #808000\">filename</span>=<span style=\"color: #008000; text-decoration-color: #008000\">'su_2023/J1810-197_ettus/2022-09-29T21:01:02.422413_A2/filoriginal/ds8192_J1810-197_A2_20220929_180235</span>\n",
       "<span style=\"color: #008000; text-decoration-color: #008000\">.fil'</span>,\n",
       "    <span style=\"color: #808000; text-decoration-color: #808000\">data_type</span>=<span style=\"color: #008000; text-decoration-color: #008000\">'filterbank'</span>,\n",
       "    <span style=\"color: #808000; text-decoration-color: #808000\">nchans</span>=<span style=\"color: #008080; text-decoration-color: #008080; font-weight: bold\">32</span>,\n",
       "    <span style=\"color: #808000; text-decoration-color: #808000\">foff</span>=<span style=\"color: #008080; text-decoration-color: #008080; font-weight: bold\">1.75</span>,\n",
       "    <span style=\"color: #808000; text-decoration-color: #808000\">fch1</span>=<span style=\"color: #008080; text-decoration-color: #008080; font-weight: bold\">1456.0</span>,\n",
       "    <span style=\"color: #808000; text-decoration-color: #808000\">nbits</span>=<span style=\"color: #008080; text-decoration-color: #008080; font-weight: bold\">32</span>,\n",
       "    <span style=\"color: #808000; text-decoration-color: #808000\">tsamp</span>=<span style=\"color: #008080; text-decoration-color: #008080; font-weight: bold\">0.00014628571428571428</span>,\n",
       "    <span style=\"color: #808000; text-decoration-color: #808000\">tstart</span>=<span style=\"color: #008080; text-decoration-color: #008080; font-weight: bold\">59851.8768287037</span>,\n",
       "    <span style=\"color: #808000; text-decoration-color: #808000\">nsamples</span>=<span style=\"color: #008080; text-decoration-color: #008080; font-weight: bold\">58195968</span>,\n",
       "    <span style=\"color: #808000; text-decoration-color: #808000\">nifs</span>=<span style=\"color: #008080; text-decoration-color: #008080; font-weight: bold\">1</span>,\n",
       "    <span style=\"color: #808000; text-decoration-color: #808000\">coord</span>=<span style=\"font-weight: bold\">&lt;</span><span style=\"color: #ff00ff; text-decoration-color: #ff00ff; font-weight: bold\">SkyCoord</span><span style=\"color: #000000; text-decoration-color: #000000\"> </span><span style=\"color: #000000; text-decoration-color: #000000; font-weight: bold\">(</span><span style=\"color: #000000; text-decoration-color: #000000\">ICRS</span><span style=\"color: #000000; text-decoration-color: #000000; font-weight: bold\">)</span><span style=\"color: #000000; text-decoration-color: #000000\">: </span><span style=\"color: #000000; text-decoration-color: #000000; font-weight: bold\">(</span><span style=\"color: #000000; text-decoration-color: #000000\">ra, dec</span><span style=\"color: #000000; text-decoration-color: #000000; font-weight: bold\">)</span><span style=\"color: #000000; text-decoration-color: #000000\"> in deg</span>\n",
       "<span style=\"color: #000000; text-decoration-color: #000000\">    </span><span style=\"color: #000000; text-decoration-color: #000000; font-weight: bold\">(</span><span style=\"color: #008080; text-decoration-color: #008080; font-weight: bold\">272.46283333</span><span style=\"color: #000000; text-decoration-color: #000000\">, </span><span style=\"color: #008080; text-decoration-color: #008080; font-weight: bold\">-19.73109167</span><span style=\"color: #000000; text-decoration-color: #000000; font-weight: bold\">)</span><span style=\"color: #000000; text-decoration-color: #000000\">&gt;,</span>\n",
       "<span style=\"color: #000000; text-decoration-color: #000000\">    </span><span style=\"color: #808000; text-decoration-color: #808000\">azimuth</span><span style=\"color: #000000; text-decoration-color: #000000\">=&lt;Angle </span><span style=\"color: #008080; text-decoration-color: #008080; font-weight: bold\">0</span><span style=\"color: #000000; text-decoration-color: #000000\">. deg&gt;,</span>\n",
       "<span style=\"color: #000000; text-decoration-color: #000000\">    </span><span style=\"color: #808000; text-decoration-color: #808000\">zenith</span><span style=\"color: #000000; text-decoration-color: #000000\">=&lt;Angle </span><span style=\"color: #008080; text-decoration-color: #008080; font-weight: bold\">0</span><span style=\"color: #000000; text-decoration-color: #000000\">. deg</span><span style=\"font-weight: bold\">&gt;</span>,\n",
       "    <span style=\"color: #808000; text-decoration-color: #808000\">telescope</span>=<span style=\"color: #008000; text-decoration-color: #008000\">'Fake'</span>,\n",
       "    <span style=\"color: #808000; text-decoration-color: #808000\">backend</span>=<span style=\"color: #008000; text-decoration-color: #008000\">'FAKE'</span>,\n",
       "    <span style=\"color: #808000; text-decoration-color: #808000\">source</span>=<span style=\"color: #008000; text-decoration-color: #008000\">'J1810-197_A2'</span>,\n",
       "    <span style=\"color: #808000; text-decoration-color: #808000\">frame</span>=<span style=\"color: #008000; text-decoration-color: #008000\">'topocentric'</span>,\n",
       "    <span style=\"color: #808000; text-decoration-color: #808000\">ibeam</span>=<span style=\"color: #008080; text-decoration-color: #008080; font-weight: bold\">1</span>,\n",
       "    <span style=\"color: #808000; text-decoration-color: #808000\">nbeams</span>=<span style=\"color: #008080; text-decoration-color: #008080; font-weight: bold\">1</span>,\n",
       "    <span style=\"color: #808000; text-decoration-color: #808000\">dm</span>=<span style=\"color: #008080; text-decoration-color: #008080; font-weight: bold\">0</span>,\n",
       "    <span style=\"color: #808000; text-decoration-color: #808000\">period</span>=<span style=\"color: #008080; text-decoration-color: #008080; font-weight: bold\">0</span>,\n",
       "    <span style=\"color: #808000; text-decoration-color: #808000\">accel</span>=<span style=\"color: #008080; text-decoration-color: #008080; font-weight: bold\">0</span>,\n",
       "    <span style=\"color: #808000; text-decoration-color: #808000\">signed</span>=<span style=\"color: #ff0000; text-decoration-color: #ff0000; font-style: italic\">False</span>,\n",
       "    <span style=\"color: #808000; text-decoration-color: #808000\">rawdatafile</span>=<span style=\"color: #008000; text-decoration-color: #008000\">'ds8192_J1810-197_A2_20220929_180235.fil'</span>,\n",
       "    <span style=\"color: #808000; text-decoration-color: #808000\">hdrlens</span>=<span style=\"font-weight: bold\">[</span><span style=\"color: #008080; text-decoration-color: #008080; font-weight: bold\">385</span><span style=\"font-weight: bold\">]</span>,\n",
       "    <span style=\"color: #808000; text-decoration-color: #808000\">datalens</span>=<span style=\"font-weight: bold\">[</span><span style=\"color: #008080; text-decoration-color: #008080; font-weight: bold\">7449083904</span><span style=\"font-weight: bold\">]</span>,\n",
       "    <span style=\"color: #808000; text-decoration-color: #808000\">filenames</span>=<span style=\"font-weight: bold\">[</span>\n",
       "        <span style=\"color: #008000; text-decoration-color: #008000\">'su_2023/J1810-197_ettus/2022-09-29T21:01:02.422413_A2/filoriginal/ds8192_J1810-197_A2_20220929_180235.fil'</span>\n",
       "    <span style=\"font-weight: bold\">]</span>,\n",
       "    <span style=\"color: #808000; text-decoration-color: #808000\">nsamples_files</span>=<span style=\"font-weight: bold\">[</span><span style=\"color: #008080; text-decoration-color: #008080; font-weight: bold\">58195968</span><span style=\"font-weight: bold\">]</span>,\n",
       "    <span style=\"color: #808000; text-decoration-color: #808000\">tstart_files</span>=<span style=\"font-weight: bold\">[</span><span style=\"color: #008080; text-decoration-color: #008080; font-weight: bold\">59851.8768287037</span><span style=\"font-weight: bold\">]</span>\n",
       "<span style=\"font-weight: bold\">)</span>\n",
       "</pre>\n"
      ],
      "text/plain": [
       "\u001b[1;35mHeader\u001b[0m\u001b[1m(\u001b[0m\n",
       "    \u001b[33mfilename\u001b[0m=\u001b[32m'su_2023/J1810-197_ettus/2022-09-29T21:01:02.422413_A2/filoriginal/ds8192_J1810-197_A2_20220929_180235\u001b[0m\n",
       "\u001b[32m.fil'\u001b[0m,\n",
       "    \u001b[33mdata_type\u001b[0m=\u001b[32m'filterbank'\u001b[0m,\n",
       "    \u001b[33mnchans\u001b[0m=\u001b[1;36m32\u001b[0m,\n",
       "    \u001b[33mfoff\u001b[0m=\u001b[1;36m1\u001b[0m\u001b[1;36m.75\u001b[0m,\n",
       "    \u001b[33mfch1\u001b[0m=\u001b[1;36m1456\u001b[0m\u001b[1;36m.0\u001b[0m,\n",
       "    \u001b[33mnbits\u001b[0m=\u001b[1;36m32\u001b[0m,\n",
       "    \u001b[33mtsamp\u001b[0m=\u001b[1;36m0\u001b[0m\u001b[1;36m.00014628571428571428\u001b[0m,\n",
       "    \u001b[33mtstart\u001b[0m=\u001b[1;36m59851\u001b[0m\u001b[1;36m.8768287037\u001b[0m,\n",
       "    \u001b[33mnsamples\u001b[0m=\u001b[1;36m58195968\u001b[0m,\n",
       "    \u001b[33mnifs\u001b[0m=\u001b[1;36m1\u001b[0m,\n",
       "    \u001b[33mcoord\u001b[0m=\u001b[1m<\u001b[0m\u001b[1;95mSkyCoord\u001b[0m\u001b[39m \u001b[0m\u001b[1;39m(\u001b[0m\u001b[39mICRS\u001b[0m\u001b[1;39m)\u001b[0m\u001b[39m: \u001b[0m\u001b[1;39m(\u001b[0m\u001b[39mra, dec\u001b[0m\u001b[1;39m)\u001b[0m\u001b[39m in deg\u001b[0m\n",
       "\u001b[39m    \u001b[0m\u001b[1;39m(\u001b[0m\u001b[1;36m272.46283333\u001b[0m\u001b[39m, \u001b[0m\u001b[1;36m-19.73109167\u001b[0m\u001b[1;39m)\u001b[0m\u001b[39m>,\u001b[0m\n",
       "\u001b[39m    \u001b[0m\u001b[33mazimuth\u001b[0m\u001b[39m=<Angle \u001b[0m\u001b[1;36m0\u001b[0m\u001b[39m. deg>,\u001b[0m\n",
       "\u001b[39m    \u001b[0m\u001b[33mzenith\u001b[0m\u001b[39m=<Angle \u001b[0m\u001b[1;36m0\u001b[0m\u001b[39m. deg\u001b[0m\u001b[1m>\u001b[0m,\n",
       "    \u001b[33mtelescope\u001b[0m=\u001b[32m'Fake'\u001b[0m,\n",
       "    \u001b[33mbackend\u001b[0m=\u001b[32m'FAKE'\u001b[0m,\n",
       "    \u001b[33msource\u001b[0m=\u001b[32m'J1810-197_A2'\u001b[0m,\n",
       "    \u001b[33mframe\u001b[0m=\u001b[32m'topocentric'\u001b[0m,\n",
       "    \u001b[33mibeam\u001b[0m=\u001b[1;36m1\u001b[0m,\n",
       "    \u001b[33mnbeams\u001b[0m=\u001b[1;36m1\u001b[0m,\n",
       "    \u001b[33mdm\u001b[0m=\u001b[1;36m0\u001b[0m,\n",
       "    \u001b[33mperiod\u001b[0m=\u001b[1;36m0\u001b[0m,\n",
       "    \u001b[33maccel\u001b[0m=\u001b[1;36m0\u001b[0m,\n",
       "    \u001b[33msigned\u001b[0m=\u001b[3;91mFalse\u001b[0m,\n",
       "    \u001b[33mrawdatafile\u001b[0m=\u001b[32m'ds8192_J1810-197_A2_20220929_180235.fil'\u001b[0m,\n",
       "    \u001b[33mhdrlens\u001b[0m=\u001b[1m[\u001b[0m\u001b[1;36m385\u001b[0m\u001b[1m]\u001b[0m,\n",
       "    \u001b[33mdatalens\u001b[0m=\u001b[1m[\u001b[0m\u001b[1;36m7449083904\u001b[0m\u001b[1m]\u001b[0m,\n",
       "    \u001b[33mfilenames\u001b[0m=\u001b[1m[\u001b[0m\n",
       "        \u001b[32m'su_2023/J1810-197_ettus/2022-09-29T21:01:02.422413_A2/filoriginal/ds8192_J1810-197_A2_20220929_180235.fil'\u001b[0m\n",
       "    \u001b[1m]\u001b[0m,\n",
       "    \u001b[33mnsamples_files\u001b[0m=\u001b[1m[\u001b[0m\u001b[1;36m58195968\u001b[0m\u001b[1m]\u001b[0m,\n",
       "    \u001b[33mtstart_files\u001b[0m=\u001b[1m[\u001b[0m\u001b[1;36m59851.8768287037\u001b[0m\u001b[1m]\u001b[0m\n",
       "\u001b[1m)\u001b[0m\n"
      ]
     },
     "execution_count": 38,
     "metadata": {},
     "output_type": "execute_result"
    }
   ],
   "source": [
    "Pretty(filoriginal.header)  #the original file\n",
    "\n"
   ]
  },
  {
   "cell_type": "code",
   "execution_count": 39,
   "id": "a882fea8-654a-4ea9-a08d-297ddfdd2961",
   "metadata": {},
   "outputs": [
    {
     "data": {
      "text/html": [
       "<pre style=\"white-space:pre;overflow-x:auto;line-height:normal;font-family:Menlo,'DejaVu Sans Mono',consolas,'Courier New',monospace\"><span style=\"color: #800080; text-decoration-color: #800080; font-weight: bold\">Header</span><span style=\"font-weight: bold\">(</span>\n",
       "    <span style=\"color: #808000; text-decoration-color: #808000\">filename</span>=<span style=\"color: #008000; text-decoration-color: #008000\">'su_2023/J1810-197_ettus/2022-09-29T21:01:02.422413_A2/filoriginal/filfromfil1.fil'</span>,\n",
       "    <span style=\"color: #808000; text-decoration-color: #808000\">data_type</span>=<span style=\"color: #008000; text-decoration-color: #008000\">'filterbank'</span>,\n",
       "    <span style=\"color: #808000; text-decoration-color: #808000\">nchans</span>=<span style=\"color: #008080; text-decoration-color: #008080; font-weight: bold\">32</span>,\n",
       "    <span style=\"color: #808000; text-decoration-color: #808000\">foff</span>=<span style=\"color: #008080; text-decoration-color: #008080; font-weight: bold\">-1.75</span>,\n",
       "    <span style=\"color: #808000; text-decoration-color: #808000\">fch1</span>=<span style=\"color: #008080; text-decoration-color: #008080; font-weight: bold\">1510.25</span>,\n",
       "    <span style=\"color: #808000; text-decoration-color: #808000\">nbits</span>=<span style=\"color: #008080; text-decoration-color: #008080; font-weight: bold\">32</span>,\n",
       "    <span style=\"color: #808000; text-decoration-color: #808000\">tsamp</span>=<span style=\"color: #008080; text-decoration-color: #008080; font-weight: bold\">0.00014628571428571428</span>,\n",
       "    <span style=\"color: #808000; text-decoration-color: #808000\">tstart</span>=<span style=\"color: #008080; text-decoration-color: #008080; font-weight: bold\">59851.8768287037</span>,\n",
       "    <span style=\"color: #808000; text-decoration-color: #808000\">nsamples</span>=<span style=\"color: #008080; text-decoration-color: #008080; font-weight: bold\">15360</span>,\n",
       "    <span style=\"color: #808000; text-decoration-color: #808000\">nifs</span>=<span style=\"color: #008080; text-decoration-color: #008080; font-weight: bold\">1</span>,\n",
       "    <span style=\"color: #808000; text-decoration-color: #808000\">coord</span>=<span style=\"font-weight: bold\">&lt;</span><span style=\"color: #ff00ff; text-decoration-color: #ff00ff; font-weight: bold\">SkyCoord</span><span style=\"color: #000000; text-decoration-color: #000000\"> </span><span style=\"color: #000000; text-decoration-color: #000000; font-weight: bold\">(</span><span style=\"color: #000000; text-decoration-color: #000000\">ICRS</span><span style=\"color: #000000; text-decoration-color: #000000; font-weight: bold\">)</span><span style=\"color: #000000; text-decoration-color: #000000\">: </span><span style=\"color: #000000; text-decoration-color: #000000; font-weight: bold\">(</span><span style=\"color: #000000; text-decoration-color: #000000\">ra, dec</span><span style=\"color: #000000; text-decoration-color: #000000; font-weight: bold\">)</span><span style=\"color: #000000; text-decoration-color: #000000\"> in deg</span>\n",
       "<span style=\"color: #000000; text-decoration-color: #000000\">    </span><span style=\"color: #000000; text-decoration-color: #000000; font-weight: bold\">(</span><span style=\"color: #008080; text-decoration-color: #008080; font-weight: bold\">272.46283333</span><span style=\"color: #000000; text-decoration-color: #000000\">, </span><span style=\"color: #008080; text-decoration-color: #008080; font-weight: bold\">-19.73109167</span><span style=\"color: #000000; text-decoration-color: #000000; font-weight: bold\">)</span><span style=\"color: #000000; text-decoration-color: #000000\">&gt;,</span>\n",
       "<span style=\"color: #000000; text-decoration-color: #000000\">    </span><span style=\"color: #808000; text-decoration-color: #808000\">azimuth</span><span style=\"color: #000000; text-decoration-color: #000000\">=&lt;Angle </span><span style=\"color: #008080; text-decoration-color: #008080; font-weight: bold\">-1</span><span style=\"color: #000000; text-decoration-color: #000000\">. deg&gt;,</span>\n",
       "<span style=\"color: #000000; text-decoration-color: #000000\">    </span><span style=\"color: #808000; text-decoration-color: #808000\">zenith</span><span style=\"color: #000000; text-decoration-color: #000000\">=&lt;Angle </span><span style=\"color: #008080; text-decoration-color: #008080; font-weight: bold\">-1</span><span style=\"color: #000000; text-decoration-color: #000000\">. deg</span><span style=\"font-weight: bold\">&gt;</span>,\n",
       "    <span style=\"color: #808000; text-decoration-color: #808000\">telescope</span>=<span style=\"color: #008000; text-decoration-color: #008000\">'GBT'</span>,\n",
       "    <span style=\"color: #808000; text-decoration-color: #808000\">backend</span>=<span style=\"color: #008000; text-decoration-color: #008000\">'FAKE'</span>,\n",
       "    <span style=\"color: #808000; text-decoration-color: #808000\">source</span>=<span style=\"color: #008000; text-decoration-color: #008000\">'J1810-197_A2'</span>,\n",
       "    <span style=\"color: #808000; text-decoration-color: #808000\">frame</span>=<span style=\"color: #008000; text-decoration-color: #008000\">'topocentric'</span>,\n",
       "    <span style=\"color: #808000; text-decoration-color: #808000\">ibeam</span>=<span style=\"color: #008080; text-decoration-color: #008080; font-weight: bold\">0</span>,\n",
       "    <span style=\"color: #808000; text-decoration-color: #808000\">nbeams</span>=<span style=\"color: #008080; text-decoration-color: #008080; font-weight: bold\">1</span>,\n",
       "    <span style=\"color: #808000; text-decoration-color: #808000\">dm</span>=<span style=\"color: #008080; text-decoration-color: #008080; font-weight: bold\">0</span>,\n",
       "    <span style=\"color: #808000; text-decoration-color: #808000\">period</span>=<span style=\"color: #008080; text-decoration-color: #008080; font-weight: bold\">0</span>,\n",
       "    <span style=\"color: #808000; text-decoration-color: #808000\">accel</span>=<span style=\"color: #008080; text-decoration-color: #008080; font-weight: bold\">0</span>,\n",
       "    <span style=\"color: #808000; text-decoration-color: #808000\">signed</span>=<span style=\"color: #ff0000; text-decoration-color: #ff0000; font-style: italic\">False</span>,\n",
       "    <span style=\"color: #808000; text-decoration-color: #808000\">rawdatafile</span>=<span style=\"color: #008000; text-decoration-color: #008000\">'./filfromfil1.fil'</span>,\n",
       "    <span style=\"color: #808000; text-decoration-color: #808000\">hdrlens</span>=<span style=\"font-weight: bold\">[</span><span style=\"color: #008080; text-decoration-color: #008080; font-weight: bold\">403</span><span style=\"font-weight: bold\">]</span>,\n",
       "    <span style=\"color: #808000; text-decoration-color: #808000\">datalens</span>=<span style=\"font-weight: bold\">[</span><span style=\"color: #008080; text-decoration-color: #008080; font-weight: bold\">1966080</span><span style=\"font-weight: bold\">]</span>,\n",
       "    <span style=\"color: #808000; text-decoration-color: #808000\">filenames</span>=<span style=\"font-weight: bold\">[</span><span style=\"color: #008000; text-decoration-color: #008000\">'su_2023/J1810-197_ettus/2022-09-29T21:01:02.422413_A2/filoriginal/filfromfil1.fil'</span><span style=\"font-weight: bold\">]</span>,\n",
       "    <span style=\"color: #808000; text-decoration-color: #808000\">nsamples_files</span>=<span style=\"font-weight: bold\">[</span><span style=\"color: #008080; text-decoration-color: #008080; font-weight: bold\">15360</span><span style=\"font-weight: bold\">]</span>,\n",
       "    <span style=\"color: #808000; text-decoration-color: #808000\">tstart_files</span>=<span style=\"font-weight: bold\">[</span><span style=\"color: #008080; text-decoration-color: #008080; font-weight: bold\">59851.8768287037</span><span style=\"font-weight: bold\">]</span>\n",
       "<span style=\"font-weight: bold\">)</span>\n",
       "</pre>\n"
      ],
      "text/plain": [
       "\u001b[1;35mHeader\u001b[0m\u001b[1m(\u001b[0m\n",
       "    \u001b[33mfilename\u001b[0m=\u001b[32m'su_2023/J1810-197_ettus/2022-09-29T21:01:02.422413_A2/filoriginal/filfromfil1.fil'\u001b[0m,\n",
       "    \u001b[33mdata_type\u001b[0m=\u001b[32m'filterbank'\u001b[0m,\n",
       "    \u001b[33mnchans\u001b[0m=\u001b[1;36m32\u001b[0m,\n",
       "    \u001b[33mfoff\u001b[0m=\u001b[1;36m-1.75\u001b[0m,\n",
       "    \u001b[33mfch1\u001b[0m=\u001b[1;36m1510\u001b[0m\u001b[1;36m.25\u001b[0m,\n",
       "    \u001b[33mnbits\u001b[0m=\u001b[1;36m32\u001b[0m,\n",
       "    \u001b[33mtsamp\u001b[0m=\u001b[1;36m0\u001b[0m\u001b[1;36m.00014628571428571428\u001b[0m,\n",
       "    \u001b[33mtstart\u001b[0m=\u001b[1;36m59851\u001b[0m\u001b[1;36m.8768287037\u001b[0m,\n",
       "    \u001b[33mnsamples\u001b[0m=\u001b[1;36m15360\u001b[0m,\n",
       "    \u001b[33mnifs\u001b[0m=\u001b[1;36m1\u001b[0m,\n",
       "    \u001b[33mcoord\u001b[0m=\u001b[1m<\u001b[0m\u001b[1;95mSkyCoord\u001b[0m\u001b[39m \u001b[0m\u001b[1;39m(\u001b[0m\u001b[39mICRS\u001b[0m\u001b[1;39m)\u001b[0m\u001b[39m: \u001b[0m\u001b[1;39m(\u001b[0m\u001b[39mra, dec\u001b[0m\u001b[1;39m)\u001b[0m\u001b[39m in deg\u001b[0m\n",
       "\u001b[39m    \u001b[0m\u001b[1;39m(\u001b[0m\u001b[1;36m272.46283333\u001b[0m\u001b[39m, \u001b[0m\u001b[1;36m-19.73109167\u001b[0m\u001b[1;39m)\u001b[0m\u001b[39m>,\u001b[0m\n",
       "\u001b[39m    \u001b[0m\u001b[33mazimuth\u001b[0m\u001b[39m=<Angle \u001b[0m\u001b[1;36m-1\u001b[0m\u001b[39m. deg>,\u001b[0m\n",
       "\u001b[39m    \u001b[0m\u001b[33mzenith\u001b[0m\u001b[39m=<Angle \u001b[0m\u001b[1;36m-1\u001b[0m\u001b[39m. deg\u001b[0m\u001b[1m>\u001b[0m,\n",
       "    \u001b[33mtelescope\u001b[0m=\u001b[32m'GBT'\u001b[0m,\n",
       "    \u001b[33mbackend\u001b[0m=\u001b[32m'FAKE'\u001b[0m,\n",
       "    \u001b[33msource\u001b[0m=\u001b[32m'J1810-197_A2'\u001b[0m,\n",
       "    \u001b[33mframe\u001b[0m=\u001b[32m'topocentric'\u001b[0m,\n",
       "    \u001b[33mibeam\u001b[0m=\u001b[1;36m0\u001b[0m,\n",
       "    \u001b[33mnbeams\u001b[0m=\u001b[1;36m1\u001b[0m,\n",
       "    \u001b[33mdm\u001b[0m=\u001b[1;36m0\u001b[0m,\n",
       "    \u001b[33mperiod\u001b[0m=\u001b[1;36m0\u001b[0m,\n",
       "    \u001b[33maccel\u001b[0m=\u001b[1;36m0\u001b[0m,\n",
       "    \u001b[33msigned\u001b[0m=\u001b[3;91mFalse\u001b[0m,\n",
       "    \u001b[33mrawdatafile\u001b[0m=\u001b[32m'./filfromfil1.fil'\u001b[0m,\n",
       "    \u001b[33mhdrlens\u001b[0m=\u001b[1m[\u001b[0m\u001b[1;36m403\u001b[0m\u001b[1m]\u001b[0m,\n",
       "    \u001b[33mdatalens\u001b[0m=\u001b[1m[\u001b[0m\u001b[1;36m1966080\u001b[0m\u001b[1m]\u001b[0m,\n",
       "    \u001b[33mfilenames\u001b[0m=\u001b[1m[\u001b[0m\u001b[32m'su_2023/J1810-197_ettus/2022-09-29T21:01:02.422413_A2/filoriginal/filfromfil1.fil'\u001b[0m\u001b[1m]\u001b[0m,\n",
       "    \u001b[33mnsamples_files\u001b[0m=\u001b[1m[\u001b[0m\u001b[1;36m15360\u001b[0m\u001b[1m]\u001b[0m,\n",
       "    \u001b[33mtstart_files\u001b[0m=\u001b[1m[\u001b[0m\u001b[1;36m59851.8768287037\u001b[0m\u001b[1m]\u001b[0m\n",
       "\u001b[1m)\u001b[0m\n"
      ]
     },
     "execution_count": 39,
     "metadata": {},
     "output_type": "execute_result"
    }
   ],
   "source": [
    "Pretty(filyour.header) \n",
    "#This .fil file has the wrong first channel. Also the telescope parameter isn't right"
   ]
  },
  {
   "cell_type": "markdown",
   "id": "d4094205-8bda-43ac-a5bd-59921475d457",
   "metadata": {},
   "source": [
    "Triying invert_freq() from sigproc"
   ]
  },
  {
   "cell_type": "code",
   "execution_count": 26,
   "id": "6186070d-fa8d-4927-aaab-9ef8bdad1a6f",
   "metadata": {},
   "outputs": [
    {
     "data": {
      "application/vnd.jupyter.widget-view+json": {
       "model_id": "11cca70ab86546728cd9f6a8c64f0d30",
       "version_major": 2,
       "version_minor": 0
      },
      "text/plain": [
       "Output()"
      ]
     },
     "metadata": {},
     "output_type": "display_data"
    },
    {
     "data": {
      "text/html": [
       "<pre style=\"white-space:pre;overflow-x:auto;line-height:normal;font-family:Menlo,'DejaVu Sans Mono',consolas,'Courier New',monospace\"></pre>\n"
      ],
      "text/plain": []
     },
     "metadata": {},
     "output_type": "display_data"
    },
    {
     "data": {
      "text/html": [
       "<pre style=\"white-space:pre;overflow-x:auto;line-height:normal;font-family:Menlo,'DejaVu Sans Mono',consolas,'Courier New',monospace\">\n",
       "</pre>\n"
      ],
      "text/plain": [
       "\n"
      ]
     },
     "metadata": {},
     "output_type": "display_data"
    },
    {
     "data": {
      "text/plain": [
       "'filfromfil1_inverted.fil'"
      ]
     },
     "execution_count": 26,
     "metadata": {},
     "output_type": "execute_result"
    }
   ],
   "source": [
    "filyour.invert_freq()"
   ]
  },
  {
   "cell_type": "code",
   "execution_count": 66,
   "id": "50df8b07-55fb-47f4-891e-3764b967c39a",
   "metadata": {},
   "outputs": [],
   "source": [
    "path_inverted_your = \"filfromfil1_inverted.fil\""
   ]
  },
  {
   "cell_type": "code",
   "execution_count": 41,
   "id": "4c609576-228e-444b-a835-f843b4dd0aaf",
   "metadata": {},
   "outputs": [
    {
     "data": {
      "application/vnd.jupyter.widget-view+json": {
       "model_id": "2ee3e908a8eb4a0492ffd2e6cf28bd6d",
       "version_major": 2,
       "version_minor": 0
      },
      "text/plain": [
       "Output()"
      ]
     },
     "metadata": {},
     "output_type": "display_data"
    },
    {
     "data": {
      "text/html": [
       "<pre style=\"white-space:pre;overflow-x:auto;line-height:normal;font-family:Menlo,'DejaVu Sans Mono',consolas,'Courier New',monospace\"></pre>\n"
      ],
      "text/plain": []
     },
     "metadata": {},
     "output_type": "display_data"
    },
    {
     "data": {
      "text/html": [
       "<pre style=\"white-space:pre;overflow-x:auto;line-height:normal;font-family:Menlo,'DejaVu Sans Mono',consolas,'Courier New',monospace\">\n",
       "</pre>\n"
      ],
      "text/plain": [
       "\n"
      ]
     },
     "metadata": {},
     "output_type": "display_data"
    }
   ],
   "source": [
    "filoriginal.invert_freq()\n"
   ]
  },
  {
   "cell_type": "code",
   "execution_count": 69,
   "id": "6b2e8d8b-5536-4693-b972-5063c009fbaf",
   "metadata": {},
   "outputs": [],
   "source": [
    "path_inverted_original = \"./ds8192_J1810-197_A2_20220929_180235_inverted.fil\""
   ]
  },
  {
   "cell_type": "code",
   "execution_count": 64,
   "id": "0a7aa78f-aeb5-4c90-a6bc-40b0f9538b54",
   "metadata": {},
   "outputs": [
    {
     "data": {
      "text/plain": [
       "sigpyproc.header.Header"
      ]
     },
     "execution_count": 64,
     "metadata": {},
     "output_type": "execute_result"
    }
   ],
   "source": [
    "type(filoriginal.header)\n"
   ]
  },
  {
   "cell_type": "code",
   "execution_count": 67,
   "id": "0d0ef7da-888b-4ad9-948d-4882777c3d83",
   "metadata": {},
   "outputs": [
    {
     "data": {
      "text/html": [
       "<pre style=\"white-space:pre;overflow-x:auto;line-height:normal;font-family:Menlo,'DejaVu Sans Mono',consolas,'Courier New',monospace\"><span style=\"color: #800080; text-decoration-color: #800080; font-weight: bold\">Header</span><span style=\"font-weight: bold\">(</span>\n",
       "    <span style=\"color: #808000; text-decoration-color: #808000\">filename</span>=<span style=\"color: #008000; text-decoration-color: #008000\">'filfromfil1_inverted.fil'</span>,\n",
       "    <span style=\"color: #808000; text-decoration-color: #808000\">data_type</span>=<span style=\"color: #008000; text-decoration-color: #008000\">'filterbank'</span>,\n",
       "    <span style=\"color: #808000; text-decoration-color: #808000\">nchans</span>=<span style=\"color: #008080; text-decoration-color: #008080; font-weight: bold\">32</span>,\n",
       "    <span style=\"color: #808000; text-decoration-color: #808000\">foff</span>=<span style=\"color: #008080; text-decoration-color: #008080; font-weight: bold\">1.75</span>,\n",
       "    <span style=\"color: #808000; text-decoration-color: #808000\">fch1</span>=<span style=\"color: #008080; text-decoration-color: #008080; font-weight: bold\">1456.0</span>,\n",
       "    <span style=\"color: #808000; text-decoration-color: #808000\">nbits</span>=<span style=\"color: #008080; text-decoration-color: #008080; font-weight: bold\">32</span>,\n",
       "    <span style=\"color: #808000; text-decoration-color: #808000\">tsamp</span>=<span style=\"color: #008080; text-decoration-color: #008080; font-weight: bold\">0.00014628571428571428</span>,\n",
       "    <span style=\"color: #808000; text-decoration-color: #808000\">tstart</span>=<span style=\"color: #008080; text-decoration-color: #008080; font-weight: bold\">59851.8768287037</span>,\n",
       "    <span style=\"color: #808000; text-decoration-color: #808000\">nsamples</span>=<span style=\"color: #008080; text-decoration-color: #008080; font-weight: bold\">15360</span>,\n",
       "    <span style=\"color: #808000; text-decoration-color: #808000\">nifs</span>=<span style=\"color: #008080; text-decoration-color: #008080; font-weight: bold\">1</span>,\n",
       "    <span style=\"color: #808000; text-decoration-color: #808000\">coord</span>=<span style=\"font-weight: bold\">&lt;</span><span style=\"color: #ff00ff; text-decoration-color: #ff00ff; font-weight: bold\">SkyCoord</span><span style=\"color: #000000; text-decoration-color: #000000\"> </span><span style=\"color: #000000; text-decoration-color: #000000; font-weight: bold\">(</span><span style=\"color: #000000; text-decoration-color: #000000\">ICRS</span><span style=\"color: #000000; text-decoration-color: #000000; font-weight: bold\">)</span><span style=\"color: #000000; text-decoration-color: #000000\">: </span><span style=\"color: #000000; text-decoration-color: #000000; font-weight: bold\">(</span><span style=\"color: #000000; text-decoration-color: #000000\">ra, dec</span><span style=\"color: #000000; text-decoration-color: #000000; font-weight: bold\">)</span><span style=\"color: #000000; text-decoration-color: #000000\"> in deg</span>\n",
       "<span style=\"color: #000000; text-decoration-color: #000000\">    </span><span style=\"color: #000000; text-decoration-color: #000000; font-weight: bold\">(</span><span style=\"color: #008080; text-decoration-color: #008080; font-weight: bold\">272.46283333</span><span style=\"color: #000000; text-decoration-color: #000000\">, </span><span style=\"color: #008080; text-decoration-color: #008080; font-weight: bold\">-19.73109167</span><span style=\"color: #000000; text-decoration-color: #000000; font-weight: bold\">)</span><span style=\"color: #000000; text-decoration-color: #000000\">&gt;,</span>\n",
       "<span style=\"color: #000000; text-decoration-color: #000000\">    </span><span style=\"color: #808000; text-decoration-color: #808000\">azimuth</span><span style=\"color: #000000; text-decoration-color: #000000\">=&lt;Angle </span><span style=\"color: #008080; text-decoration-color: #008080; font-weight: bold\">-1</span><span style=\"color: #000000; text-decoration-color: #000000\">. deg&gt;,</span>\n",
       "<span style=\"color: #000000; text-decoration-color: #000000\">    </span><span style=\"color: #808000; text-decoration-color: #808000\">zenith</span><span style=\"color: #000000; text-decoration-color: #000000\">=&lt;Angle </span><span style=\"color: #008080; text-decoration-color: #008080; font-weight: bold\">-1</span><span style=\"color: #000000; text-decoration-color: #000000\">. deg</span><span style=\"font-weight: bold\">&gt;</span>,\n",
       "    <span style=\"color: #808000; text-decoration-color: #808000\">telescope</span>=<span style=\"color: #008000; text-decoration-color: #008000\">'GBT'</span>,\n",
       "    <span style=\"color: #808000; text-decoration-color: #808000\">backend</span>=<span style=\"color: #008000; text-decoration-color: #008000\">'FAKE'</span>,\n",
       "    <span style=\"color: #808000; text-decoration-color: #808000\">source</span>=<span style=\"color: #008000; text-decoration-color: #008000\">'J1810-197_A2'</span>,\n",
       "    <span style=\"color: #808000; text-decoration-color: #808000\">frame</span>=<span style=\"color: #008000; text-decoration-color: #008000\">'topocentric'</span>,\n",
       "    <span style=\"color: #808000; text-decoration-color: #808000\">ibeam</span>=<span style=\"color: #008080; text-decoration-color: #008080; font-weight: bold\">0</span>,\n",
       "    <span style=\"color: #808000; text-decoration-color: #808000\">nbeams</span>=<span style=\"color: #008080; text-decoration-color: #008080; font-weight: bold\">1</span>,\n",
       "    <span style=\"color: #808000; text-decoration-color: #808000\">dm</span>=<span style=\"color: #008080; text-decoration-color: #008080; font-weight: bold\">0.0</span>,\n",
       "    <span style=\"color: #808000; text-decoration-color: #808000\">period</span>=<span style=\"color: #008080; text-decoration-color: #008080; font-weight: bold\">0</span>,\n",
       "    <span style=\"color: #808000; text-decoration-color: #808000\">accel</span>=<span style=\"color: #008080; text-decoration-color: #008080; font-weight: bold\">0</span>,\n",
       "    <span style=\"color: #808000; text-decoration-color: #808000\">signed</span>=<span style=\"color: #008080; text-decoration-color: #008080; font-weight: bold\">0</span>,\n",
       "    <span style=\"color: #808000; text-decoration-color: #808000\">rawdatafile</span>=<span style=\"color: #008000; text-decoration-color: #008000\">'./filfromfil1.fil'</span>,\n",
       "    <span style=\"color: #808000; text-decoration-color: #808000\">hdrlens</span>=<span style=\"font-weight: bold\">[</span><span style=\"color: #008080; text-decoration-color: #008080; font-weight: bold\">431</span><span style=\"font-weight: bold\">]</span>,\n",
       "    <span style=\"color: #808000; text-decoration-color: #808000\">datalens</span>=<span style=\"font-weight: bold\">[</span><span style=\"color: #008080; text-decoration-color: #008080; font-weight: bold\">1966080</span><span style=\"font-weight: bold\">]</span>,\n",
       "    <span style=\"color: #808000; text-decoration-color: #808000\">filenames</span>=<span style=\"font-weight: bold\">[</span><span style=\"color: #008000; text-decoration-color: #008000\">'filfromfil1_inverted.fil'</span><span style=\"font-weight: bold\">]</span>,\n",
       "    <span style=\"color: #808000; text-decoration-color: #808000\">nsamples_files</span>=<span style=\"font-weight: bold\">[</span><span style=\"color: #008080; text-decoration-color: #008080; font-weight: bold\">15360</span><span style=\"font-weight: bold\">]</span>,\n",
       "    <span style=\"color: #808000; text-decoration-color: #808000\">tstart_files</span>=<span style=\"font-weight: bold\">[</span><span style=\"color: #008080; text-decoration-color: #008080; font-weight: bold\">59851.8768287037</span><span style=\"font-weight: bold\">]</span>\n",
       "<span style=\"font-weight: bold\">)</span>\n",
       "</pre>\n"
      ],
      "text/plain": [
       "\u001b[1;35mHeader\u001b[0m\u001b[1m(\u001b[0m\n",
       "    \u001b[33mfilename\u001b[0m=\u001b[32m'filfromfil1_inverted.fil'\u001b[0m,\n",
       "    \u001b[33mdata_type\u001b[0m=\u001b[32m'filterbank'\u001b[0m,\n",
       "    \u001b[33mnchans\u001b[0m=\u001b[1;36m32\u001b[0m,\n",
       "    \u001b[33mfoff\u001b[0m=\u001b[1;36m1\u001b[0m\u001b[1;36m.75\u001b[0m,\n",
       "    \u001b[33mfch1\u001b[0m=\u001b[1;36m1456\u001b[0m\u001b[1;36m.0\u001b[0m,\n",
       "    \u001b[33mnbits\u001b[0m=\u001b[1;36m32\u001b[0m,\n",
       "    \u001b[33mtsamp\u001b[0m=\u001b[1;36m0\u001b[0m\u001b[1;36m.00014628571428571428\u001b[0m,\n",
       "    \u001b[33mtstart\u001b[0m=\u001b[1;36m59851\u001b[0m\u001b[1;36m.8768287037\u001b[0m,\n",
       "    \u001b[33mnsamples\u001b[0m=\u001b[1;36m15360\u001b[0m,\n",
       "    \u001b[33mnifs\u001b[0m=\u001b[1;36m1\u001b[0m,\n",
       "    \u001b[33mcoord\u001b[0m=\u001b[1m<\u001b[0m\u001b[1;95mSkyCoord\u001b[0m\u001b[39m \u001b[0m\u001b[1;39m(\u001b[0m\u001b[39mICRS\u001b[0m\u001b[1;39m)\u001b[0m\u001b[39m: \u001b[0m\u001b[1;39m(\u001b[0m\u001b[39mra, dec\u001b[0m\u001b[1;39m)\u001b[0m\u001b[39m in deg\u001b[0m\n",
       "\u001b[39m    \u001b[0m\u001b[1;39m(\u001b[0m\u001b[1;36m272.46283333\u001b[0m\u001b[39m, \u001b[0m\u001b[1;36m-19.73109167\u001b[0m\u001b[1;39m)\u001b[0m\u001b[39m>,\u001b[0m\n",
       "\u001b[39m    \u001b[0m\u001b[33mazimuth\u001b[0m\u001b[39m=<Angle \u001b[0m\u001b[1;36m-1\u001b[0m\u001b[39m. deg>,\u001b[0m\n",
       "\u001b[39m    \u001b[0m\u001b[33mzenith\u001b[0m\u001b[39m=<Angle \u001b[0m\u001b[1;36m-1\u001b[0m\u001b[39m. deg\u001b[0m\u001b[1m>\u001b[0m,\n",
       "    \u001b[33mtelescope\u001b[0m=\u001b[32m'GBT'\u001b[0m,\n",
       "    \u001b[33mbackend\u001b[0m=\u001b[32m'FAKE'\u001b[0m,\n",
       "    \u001b[33msource\u001b[0m=\u001b[32m'J1810-197_A2'\u001b[0m,\n",
       "    \u001b[33mframe\u001b[0m=\u001b[32m'topocentric'\u001b[0m,\n",
       "    \u001b[33mibeam\u001b[0m=\u001b[1;36m0\u001b[0m,\n",
       "    \u001b[33mnbeams\u001b[0m=\u001b[1;36m1\u001b[0m,\n",
       "    \u001b[33mdm\u001b[0m=\u001b[1;36m0\u001b[0m\u001b[1;36m.0\u001b[0m,\n",
       "    \u001b[33mperiod\u001b[0m=\u001b[1;36m0\u001b[0m,\n",
       "    \u001b[33maccel\u001b[0m=\u001b[1;36m0\u001b[0m,\n",
       "    \u001b[33msigned\u001b[0m=\u001b[1;36m0\u001b[0m,\n",
       "    \u001b[33mrawdatafile\u001b[0m=\u001b[32m'./filfromfil1.fil'\u001b[0m,\n",
       "    \u001b[33mhdrlens\u001b[0m=\u001b[1m[\u001b[0m\u001b[1;36m431\u001b[0m\u001b[1m]\u001b[0m,\n",
       "    \u001b[33mdatalens\u001b[0m=\u001b[1m[\u001b[0m\u001b[1;36m1966080\u001b[0m\u001b[1m]\u001b[0m,\n",
       "    \u001b[33mfilenames\u001b[0m=\u001b[1m[\u001b[0m\u001b[32m'filfromfil1_inverted.fil'\u001b[0m\u001b[1m]\u001b[0m,\n",
       "    \u001b[33mnsamples_files\u001b[0m=\u001b[1m[\u001b[0m\u001b[1;36m15360\u001b[0m\u001b[1m]\u001b[0m,\n",
       "    \u001b[33mtstart_files\u001b[0m=\u001b[1m[\u001b[0m\u001b[1;36m59851.8768287037\u001b[0m\u001b[1m]\u001b[0m\n",
       "\u001b[1m)\u001b[0m\n"
      ]
     },
     "execution_count": 67,
     "metadata": {},
     "output_type": "execute_result"
    }
   ],
   "source": [
    "Pretty(FilReader(path_inverted_your).header)\n",
    "#here I get the same configuration from my original file, so it doesn't fix the problem"
   ]
  },
  {
   "cell_type": "code",
   "execution_count": 70,
   "id": "28ab262e-be1a-4f90-b762-5644b4093562",
   "metadata": {},
   "outputs": [
    {
     "data": {
      "text/html": [
       "<pre style=\"white-space:pre;overflow-x:auto;line-height:normal;font-family:Menlo,'DejaVu Sans Mono',consolas,'Courier New',monospace\"><span style=\"color: #800080; text-decoration-color: #800080; font-weight: bold\">Header</span><span style=\"font-weight: bold\">(</span>\n",
       "    <span style=\"color: #808000; text-decoration-color: #808000\">filename</span>=<span style=\"color: #008000; text-decoration-color: #008000\">'./ds8192_J1810-197_A2_20220929_180235_inverted.fil'</span>,\n",
       "    <span style=\"color: #808000; text-decoration-color: #808000\">data_type</span>=<span style=\"color: #008000; text-decoration-color: #008000\">'filterbank'</span>,\n",
       "    <span style=\"color: #808000; text-decoration-color: #808000\">nchans</span>=<span style=\"color: #008080; text-decoration-color: #008080; font-weight: bold\">32</span>,\n",
       "    <span style=\"color: #808000; text-decoration-color: #808000\">foff</span>=<span style=\"color: #008080; text-decoration-color: #008080; font-weight: bold\">-1.75</span>,\n",
       "    <span style=\"color: #808000; text-decoration-color: #808000\">fch1</span>=<span style=\"color: #008080; text-decoration-color: #008080; font-weight: bold\">1510.25</span>,\n",
       "    <span style=\"color: #808000; text-decoration-color: #808000\">nbits</span>=<span style=\"color: #008080; text-decoration-color: #008080; font-weight: bold\">32</span>,\n",
       "    <span style=\"color: #808000; text-decoration-color: #808000\">tsamp</span>=<span style=\"color: #008080; text-decoration-color: #008080; font-weight: bold\">0.00014628571428571428</span>,\n",
       "    <span style=\"color: #808000; text-decoration-color: #808000\">tstart</span>=<span style=\"color: #008080; text-decoration-color: #008080; font-weight: bold\">59851.8768287037</span>,\n",
       "    <span style=\"color: #808000; text-decoration-color: #808000\">nsamples</span>=<span style=\"color: #008080; text-decoration-color: #008080; font-weight: bold\">58195968</span>,\n",
       "    <span style=\"color: #808000; text-decoration-color: #808000\">nifs</span>=<span style=\"color: #008080; text-decoration-color: #008080; font-weight: bold\">1</span>,\n",
       "    <span style=\"color: #808000; text-decoration-color: #808000\">coord</span>=<span style=\"font-weight: bold\">&lt;</span><span style=\"color: #ff00ff; text-decoration-color: #ff00ff; font-weight: bold\">SkyCoord</span><span style=\"color: #000000; text-decoration-color: #000000\"> </span><span style=\"color: #000000; text-decoration-color: #000000; font-weight: bold\">(</span><span style=\"color: #000000; text-decoration-color: #000000\">ICRS</span><span style=\"color: #000000; text-decoration-color: #000000; font-weight: bold\">)</span><span style=\"color: #000000; text-decoration-color: #000000\">: </span><span style=\"color: #000000; text-decoration-color: #000000; font-weight: bold\">(</span><span style=\"color: #000000; text-decoration-color: #000000\">ra, dec</span><span style=\"color: #000000; text-decoration-color: #000000; font-weight: bold\">)</span><span style=\"color: #000000; text-decoration-color: #000000\"> in deg</span>\n",
       "<span style=\"color: #000000; text-decoration-color: #000000\">    </span><span style=\"color: #000000; text-decoration-color: #000000; font-weight: bold\">(</span><span style=\"color: #008080; text-decoration-color: #008080; font-weight: bold\">272.46283333</span><span style=\"color: #000000; text-decoration-color: #000000\">, </span><span style=\"color: #008080; text-decoration-color: #008080; font-weight: bold\">-19.73109167</span><span style=\"color: #000000; text-decoration-color: #000000; font-weight: bold\">)</span><span style=\"color: #000000; text-decoration-color: #000000\">&gt;,</span>\n",
       "<span style=\"color: #000000; text-decoration-color: #000000\">    </span><span style=\"color: #808000; text-decoration-color: #808000\">azimuth</span><span style=\"color: #000000; text-decoration-color: #000000\">=&lt;Angle </span><span style=\"color: #008080; text-decoration-color: #008080; font-weight: bold\">0</span><span style=\"color: #000000; text-decoration-color: #000000\">. deg&gt;,</span>\n",
       "<span style=\"color: #000000; text-decoration-color: #000000\">    </span><span style=\"color: #808000; text-decoration-color: #808000\">zenith</span><span style=\"color: #000000; text-decoration-color: #000000\">=&lt;Angle </span><span style=\"color: #008080; text-decoration-color: #008080; font-weight: bold\">0</span><span style=\"color: #000000; text-decoration-color: #000000\">. deg</span><span style=\"font-weight: bold\">&gt;</span>,\n",
       "    <span style=\"color: #808000; text-decoration-color: #808000\">telescope</span>=<span style=\"color: #008000; text-decoration-color: #008000\">'Fake'</span>,\n",
       "    <span style=\"color: #808000; text-decoration-color: #808000\">backend</span>=<span style=\"color: #008000; text-decoration-color: #008000\">'FAKE'</span>,\n",
       "    <span style=\"color: #808000; text-decoration-color: #808000\">source</span>=<span style=\"color: #008000; text-decoration-color: #008000\">'J1810-197_A2'</span>,\n",
       "    <span style=\"color: #808000; text-decoration-color: #808000\">frame</span>=<span style=\"color: #008000; text-decoration-color: #008000\">'topocentric'</span>,\n",
       "    <span style=\"color: #808000; text-decoration-color: #808000\">ibeam</span>=<span style=\"color: #008080; text-decoration-color: #008080; font-weight: bold\">1</span>,\n",
       "    <span style=\"color: #808000; text-decoration-color: #808000\">nbeams</span>=<span style=\"color: #008080; text-decoration-color: #008080; font-weight: bold\">1</span>,\n",
       "    <span style=\"color: #808000; text-decoration-color: #808000\">dm</span>=<span style=\"color: #008080; text-decoration-color: #008080; font-weight: bold\">0.0</span>,\n",
       "    <span style=\"color: #808000; text-decoration-color: #808000\">period</span>=<span style=\"color: #008080; text-decoration-color: #008080; font-weight: bold\">0</span>,\n",
       "    <span style=\"color: #808000; text-decoration-color: #808000\">accel</span>=<span style=\"color: #008080; text-decoration-color: #008080; font-weight: bold\">0</span>,\n",
       "    <span style=\"color: #808000; text-decoration-color: #808000\">signed</span>=<span style=\"color: #008080; text-decoration-color: #008080; font-weight: bold\">0</span>,\n",
       "    <span style=\"color: #808000; text-decoration-color: #808000\">rawdatafile</span>=<span style=\"color: #008000; text-decoration-color: #008000\">'ds8192_J1810-197_A2_20220929_180235.fil'</span>,\n",
       "    <span style=\"color: #808000; text-decoration-color: #808000\">hdrlens</span>=<span style=\"font-weight: bold\">[</span><span style=\"color: #008080; text-decoration-color: #008080; font-weight: bold\">453</span><span style=\"font-weight: bold\">]</span>,\n",
       "    <span style=\"color: #808000; text-decoration-color: #808000\">datalens</span>=<span style=\"font-weight: bold\">[</span><span style=\"color: #008080; text-decoration-color: #008080; font-weight: bold\">7449083904</span><span style=\"font-weight: bold\">]</span>,\n",
       "    <span style=\"color: #808000; text-decoration-color: #808000\">filenames</span>=<span style=\"font-weight: bold\">[</span><span style=\"color: #008000; text-decoration-color: #008000\">'./ds8192_J1810-197_A2_20220929_180235_inverted.fil'</span><span style=\"font-weight: bold\">]</span>,\n",
       "    <span style=\"color: #808000; text-decoration-color: #808000\">nsamples_files</span>=<span style=\"font-weight: bold\">[</span><span style=\"color: #008080; text-decoration-color: #008080; font-weight: bold\">58195968</span><span style=\"font-weight: bold\">]</span>,\n",
       "    <span style=\"color: #808000; text-decoration-color: #808000\">tstart_files</span>=<span style=\"font-weight: bold\">[</span><span style=\"color: #008080; text-decoration-color: #008080; font-weight: bold\">59851.8768287037</span><span style=\"font-weight: bold\">]</span>\n",
       "<span style=\"font-weight: bold\">)</span>\n",
       "</pre>\n"
      ],
      "text/plain": [
       "\u001b[1;35mHeader\u001b[0m\u001b[1m(\u001b[0m\n",
       "    \u001b[33mfilename\u001b[0m=\u001b[32m'./ds8192_J1810-197_A2_20220929_180235_inverted.fil'\u001b[0m,\n",
       "    \u001b[33mdata_type\u001b[0m=\u001b[32m'filterbank'\u001b[0m,\n",
       "    \u001b[33mnchans\u001b[0m=\u001b[1;36m32\u001b[0m,\n",
       "    \u001b[33mfoff\u001b[0m=\u001b[1;36m-1.75\u001b[0m,\n",
       "    \u001b[33mfch1\u001b[0m=\u001b[1;36m1510\u001b[0m\u001b[1;36m.25\u001b[0m,\n",
       "    \u001b[33mnbits\u001b[0m=\u001b[1;36m32\u001b[0m,\n",
       "    \u001b[33mtsamp\u001b[0m=\u001b[1;36m0\u001b[0m\u001b[1;36m.00014628571428571428\u001b[0m,\n",
       "    \u001b[33mtstart\u001b[0m=\u001b[1;36m59851\u001b[0m\u001b[1;36m.8768287037\u001b[0m,\n",
       "    \u001b[33mnsamples\u001b[0m=\u001b[1;36m58195968\u001b[0m,\n",
       "    \u001b[33mnifs\u001b[0m=\u001b[1;36m1\u001b[0m,\n",
       "    \u001b[33mcoord\u001b[0m=\u001b[1m<\u001b[0m\u001b[1;95mSkyCoord\u001b[0m\u001b[39m \u001b[0m\u001b[1;39m(\u001b[0m\u001b[39mICRS\u001b[0m\u001b[1;39m)\u001b[0m\u001b[39m: \u001b[0m\u001b[1;39m(\u001b[0m\u001b[39mra, dec\u001b[0m\u001b[1;39m)\u001b[0m\u001b[39m in deg\u001b[0m\n",
       "\u001b[39m    \u001b[0m\u001b[1;39m(\u001b[0m\u001b[1;36m272.46283333\u001b[0m\u001b[39m, \u001b[0m\u001b[1;36m-19.73109167\u001b[0m\u001b[1;39m)\u001b[0m\u001b[39m>,\u001b[0m\n",
       "\u001b[39m    \u001b[0m\u001b[33mazimuth\u001b[0m\u001b[39m=<Angle \u001b[0m\u001b[1;36m0\u001b[0m\u001b[39m. deg>,\u001b[0m\n",
       "\u001b[39m    \u001b[0m\u001b[33mzenith\u001b[0m\u001b[39m=<Angle \u001b[0m\u001b[1;36m0\u001b[0m\u001b[39m. deg\u001b[0m\u001b[1m>\u001b[0m,\n",
       "    \u001b[33mtelescope\u001b[0m=\u001b[32m'Fake'\u001b[0m,\n",
       "    \u001b[33mbackend\u001b[0m=\u001b[32m'FAKE'\u001b[0m,\n",
       "    \u001b[33msource\u001b[0m=\u001b[32m'J1810-197_A2'\u001b[0m,\n",
       "    \u001b[33mframe\u001b[0m=\u001b[32m'topocentric'\u001b[0m,\n",
       "    \u001b[33mibeam\u001b[0m=\u001b[1;36m1\u001b[0m,\n",
       "    \u001b[33mnbeams\u001b[0m=\u001b[1;36m1\u001b[0m,\n",
       "    \u001b[33mdm\u001b[0m=\u001b[1;36m0\u001b[0m\u001b[1;36m.0\u001b[0m,\n",
       "    \u001b[33mperiod\u001b[0m=\u001b[1;36m0\u001b[0m,\n",
       "    \u001b[33maccel\u001b[0m=\u001b[1;36m0\u001b[0m,\n",
       "    \u001b[33msigned\u001b[0m=\u001b[1;36m0\u001b[0m,\n",
       "    \u001b[33mrawdatafile\u001b[0m=\u001b[32m'ds8192_J1810-197_A2_20220929_180235.fil'\u001b[0m,\n",
       "    \u001b[33mhdrlens\u001b[0m=\u001b[1m[\u001b[0m\u001b[1;36m453\u001b[0m\u001b[1m]\u001b[0m,\n",
       "    \u001b[33mdatalens\u001b[0m=\u001b[1m[\u001b[0m\u001b[1;36m7449083904\u001b[0m\u001b[1m]\u001b[0m,\n",
       "    \u001b[33mfilenames\u001b[0m=\u001b[1m[\u001b[0m\u001b[32m'./ds8192_J1810-197_A2_20220929_180235_inverted.fil'\u001b[0m\u001b[1m]\u001b[0m,\n",
       "    \u001b[33mnsamples_files\u001b[0m=\u001b[1m[\u001b[0m\u001b[1;36m58195968\u001b[0m\u001b[1m]\u001b[0m,\n",
       "    \u001b[33mtstart_files\u001b[0m=\u001b[1m[\u001b[0m\u001b[1;36m59851.8768287037\u001b[0m\u001b[1m]\u001b[0m\n",
       "\u001b[1m)\u001b[0m\n"
      ]
     },
     "execution_count": 70,
     "metadata": {},
     "output_type": "execute_result"
    }
   ],
   "source": [
    "Pretty(FilReader(path_inverted_original).header)\n",
    "#So if I invert the .fil file it seems that it changes the sing of 'foff' and the value of fch1, I would like to change just one \n",
    "#Here I have again the problem that the fch1 es 1510, which isn't an observed frequency, and the same result I got in the Your file"
   ]
  },
  {
   "cell_type": "markdown",
   "id": "a31753bf-949e-4ef0-bfde-48d44fd845ec",
   "metadata": {},
   "source": [
    "### Triying to invert with your"
   ]
  },
  {
   "cell_type": "markdown",
   "id": "62b49ffd-0848-4326-ba02-b686bf01b5d5",
   "metadata": {},
   "source": [
    "Page --> https://thepetabyteproject.github.io/your/0.6.6/ipynb/Writer/#writing-filterbanks-from-scratch"
   ]
  },
  {
   "cell_type": "code",
   "execution_count": 59,
   "id": "66b24ad8-c482-4e9a-8af6-20476d741fd4",
   "metadata": {},
   "outputs": [
    {
     "data": {
      "text/plain": [
       "Unified Header:\n",
       "  \"basename\": \"ds8192_J1810-197_A2_20220929_180235\"\n",
       "  \"bw\": 56.0\n",
       "  \"center_freq\": 1483.125\n",
       "  \"dec_deg\": -19.731091666666668\n",
       "  \"dtype\": \"float32\"\n",
       "  \"fch1\": 1456.0\n",
       "  \"filelist\": [\n",
       "    \"su_2023/J1810-197_ettus/2022-09-29T21:01:02.422413_A2/filoriginal/ds8192_J1810-197_A2_20220929_180235.fil\"\n",
       "  ]\n",
       "  \"filename\": \"su_2023/J1810-197_ettus/2022-09-29T21:01:02.422413_A2/filoriginal/ds8192_J1810-197_A2_20220929_180235.fil\"\n",
       "  \"foff\": 1.75\n",
       "  \"format\": \"fil\"\n",
       "  \"frequency_decimation_factor\": 1\n",
       "  \"gb\": -0.15836762417033684\n",
       "  \"gl\": -169.27316727335108\n",
       "  \"native_foff\": 1.75\n",
       "  \"native_nbits\": 32\n",
       "  \"native_nchans\": 32\n",
       "  \"native_nspectra\": 58195968.0\n",
       "  \"native_tsamp\": 0.00014628571428571428\n",
       "  \"nbits\": 32\n",
       "  \"nchans\": 32\n",
       "  \"npol\": 1\n",
       "  \"nspectra\": 58195968\n",
       "  \"poln_order\": \"I\"\n",
       "  \"ra_deg\": 272.4628333333333\n",
       "  \"source_name\": \"J1810-197_A2\"\n",
       "  \"time_decimation_factor\": 1\n",
       "  \"tsamp\": 0.00014628571428571428\n",
       "  \"tstart\": 59851.8768287037\n",
       "  \"tstart_utc\": \"2022-09-29T21:02:38.000\""
      ]
     },
     "execution_count": 59,
     "metadata": {},
     "output_type": "execute_result"
    }
   ],
   "source": [
    "#Let's see the original filterbank parameters in the your format:\n",
    "\n",
    "Your_original_fil = Your(path_fil_original)\n",
    "Your_original_fil.your_header\n",
    "\n",
    "#Here we can already see that Your thinks that the center_freq is higher than the one it really is"
   ]
  },
  {
   "cell_type": "markdown",
   "id": "bea8e815-c555-45d5-9ce1-2ef48c815168",
   "metadata": {
    "jp-MarkdownHeadingCollapsed": true
   },
   "source": [
    "#### Making a sigproc_object first so I can specify the first channel and the foff with your"
   ]
  },
  {
   "cell_type": "markdown",
   "id": "51f746e5-ae49-4fba-9548-5224c4556fe9",
   "metadata": {},
   "source": [
    "So with this, I get the right center frequency, but I don't know how to define the other header parameters correctly, \n",
    "so it raises some warnings and sigpyproc can't read the final .fil"
   ]
  },
  {
   "cell_type": "code",
   "execution_count": 24,
   "id": "957a9f44-c575-421c-a71f-ae4f95b599ea",
   "metadata": {},
   "outputs": [],
   "source": [
    "sigproc_object = make_sigproc_object(\n",
    "    rawdatafile  = path_fil_original,\n",
    "    source_name = \"J1810-197_A2\",\n",
    "    nchans  = 32, \n",
    "    foff=-1.75, #MHz\n",
    "    fch1 = 1456.0, # MHz\n",
    "    tsamp = 0.00014628571428571428, # seconds\n",
    "    tstart = 59851.8768287037, #MJD\n",
    "    src_raj=272.46283333, # HHMMSS.SS\n",
    "    src_dej=-19.73109167, # DDMMSS.SS\n",
    "    machine_id=0,\n",
    "    nbeams=1,\n",
    "    ibeam=1,\n",
    "    nifs=1,\n",
    "    barycentric=0,\n",
    "    pulsarcentric=0,\n",
    ")\n",
    "\n",
    "#So my problem now is that this way it has the right range of frequencies, but almost all of the other header parameters aren't right, even if\n",
    "#I pass the right values"
   ]
  },
  {
   "cell_type": "code",
   "execution_count": 25,
   "id": "bb11ac06-5d16-4f36-919d-8c6202dc39a9",
   "metadata": {},
   "outputs": [
    {
     "name": "stderr",
     "output_type": "stream",
     "text": [
      "WARNING:root:Unknown header parameter: None. This may lead to incorrect header values.\n",
      "WARNING:root:Unknown header parameter: None. This may lead to incorrect header values.\n",
      "WARNING:root:Unknown header parameter: None. This may lead to incorrect header values.\n",
      "WARNING:root:Unknown header parameter: None. This may lead to incorrect header values.\n",
      "WARNING:root:Unknown header parameter: None. This may lead to incorrect header values.\n",
      "WARNING:root:Unknown header parameter: None. This may lead to incorrect header values.\n",
      "WARNING:root:Unknown header parameter: None. This may lead to incorrect header values.\n",
      "WARNING:root:Unknown header parameter: None. This may lead to incorrect header values.\n",
      "WARNING:root:Unknown header parameter: None. This may lead to incorrect header values.\n",
      "WARNING:root:Unknown header parameter: None. This may lead to incorrect header values.\n",
      "WARNING:root:Unknown header parameter: None. This may lead to incorrect header values.\n",
      "WARNING:root:Unknown header parameter: None. This may lead to incorrect header values.\n",
      "WARNING:root:Unknown header parameter: None. This may lead to incorrect header values.\n",
      "WARNING:root:Unknown header parameter: None. This may lead to incorrect header values.\n",
      "WARNING:root:Unknown header parameter: None. This may lead to incorrect header values.\n",
      "WARNING:root:Unknown header parameter: None. This may lead to incorrect header values.\n",
      "WARNING:root:Unknown header parameter: None. This may lead to incorrect header values.\n",
      "WARNING:root:Unknown header parameter: None. This may lead to incorrect header values.\n",
      "WARNING:root:Unknown header parameter: None. This may lead to incorrect header values.\n",
      "WARNING:root:Unknown header parameter: None. This may lead to incorrect header values.\n",
      "WARNING:root:Unknown header parameter: None. This may lead to incorrect header values.\n",
      "WARNING:root:Unknown header parameter: None. This may lead to incorrect header values.\n",
      "WARNING:root:Unknown header parameter: None. This may lead to incorrect header values.\n",
      "WARNING:root:Unknown header parameter: None. This may lead to incorrect header values.\n",
      "WARNING:root:Unknown header parameter: None. This may lead to incorrect header values.\n",
      "WARNING:root:Unknown header parameter: None. This may lead to incorrect header values.\n",
      "WARNING:root:Unknown header parameter: None. This may lead to incorrect header values.\n",
      "WARNING:root:Unknown header parameter: None. This may lead to incorrect header values.\n",
      "WARNING:root:Unknown header parameter: None. This may lead to incorrect header values.\n",
      "WARNING:root:Unknown header parameter: None. This may lead to incorrect header values.\n",
      "WARNING:root:Unknown header parameter: J1810-197_A2. Skipping it and continuing. This may lead to incorrect header values.\n",
      "WARNING:root:Skipping next 4 bytes of data.\n",
      "WARNING:root:Unknown header parameter: None. This may lead to incorrect header values.\n",
      "WARNING:root:Unknown header parameter: None. This may lead to incorrect header values.\n",
      "WARNING:root:Unknown header parameter: None. This may lead to incorrect header values.\n",
      "WARNING:root:Unknown header parameter: None. This may lead to incorrect header values.\n",
      "WARNING:root:Unknown header parameter: None. This may lead to incorrect header values.\n",
      "WARNING:root:Unknown header parameter: None. This may lead to incorrect header values.\n",
      "WARNING:root:Unknown header parameter: None. This may lead to incorrect header values.\n",
      "WARNING:root:Unknown header parameter: None. This may lead to incorrect header values.\n",
      "WARNING:root:Unknown header parameter: None. This may lead to incorrect header values.\n",
      "WARNING:root:Unknown header parameter: None. This may lead to incorrect header values.\n",
      "WARNING:root:Unknown header parameter: None. This may lead to incorrect header values.\n",
      "WARNING:root:Unknown header parameter: None. This may lead to incorrect header values.\n",
      "WARNING:root:Unknown header parameter: None. This may lead to incorrect header values.\n",
      "WARNING:root:Unknown header parameter: None. This may lead to incorrect header values.\n",
      "WARNING:root:Unknown header parameter: None. This may lead to incorrect header values.\n",
      "WARNING:root:Unknown header parameter: None. This may lead to incorrect header values.\n",
      "WARNING:root:Unknown header parameter: None. This may lead to incorrect header values.\n",
      "WARNING:root:Unknown header parameter: None. This may lead to incorrect header values.\n",
      "WARNING:root:Unknown header parameter: None. This may lead to incorrect header values.\n",
      "WARNING:root:Unknown header parameter: None. This may lead to incorrect header values.\n",
      "WARNING:root:Unknown header parameter: None. This may lead to incorrect header values.\n",
      "WARNING:root:Unknown header parameter: None. This may lead to incorrect header values.\n",
      "WARNING:root:Unknown header parameter: None. This may lead to incorrect header values.\n",
      "WARNING:root:Unknown header parameter: None. This may lead to incorrect header values.\n",
      "WARNING:root:Unknown header parameter: None. This may lead to incorrect header values.\n",
      "WARNING:root:Unknown header parameter: None. This may lead to incorrect header values.\n",
      "WARNING:root:Unknown header parameter: None. This may lead to incorrect header values.\n",
      "WARNING:root:Unknown header parameter: None. This may lead to incorrect header values.\n"
     ]
    },
    {
     "data": {
      "text/plain": [
       "Unified Header:\n",
       "  \"basename\": \"foo\"\n",
       "  \"bw\": -56.0\n",
       "  \"center_freq\": 1428.875\n",
       "  \"dec_deg\": null\n",
       "  \"dtype\": \"uint8\"\n",
       "  \"fch1\": 1456.0\n",
       "  \"filelist\": [\n",
       "    \"foo.fil\"\n",
       "  ]\n",
       "  \"filename\": \"foo.fil\"\n",
       "  \"foff\": -1.75\n",
       "  \"format\": \"fil\"\n",
       "  \"frequency_decimation_factor\": 1\n",
       "  \"gb\": null\n",
       "  \"gl\": null\n",
       "  \"native_foff\": -1.75\n",
       "  \"native_nbits\": 8\n",
       "  \"native_nchans\": 32\n",
       "  \"native_nspectra\": 7.0\n",
       "  \"native_tsamp\": 0.00014628571428571428\n",
       "  \"nbits\": 8\n",
       "  \"nchans\": 32\n",
       "  \"npol\": 1\n",
       "  \"nspectra\": 7\n",
       "  \"poln_order\": \"I\"\n",
       "  \"ra_deg\": null\n",
       "  \"source_name\": \"TEMP\"\n",
       "  \"time_decimation_factor\": 1\n",
       "  \"tsamp\": 0.00014628571428571428\n",
       "  \"tstart\": 59851.8768287037\n",
       "  \"tstart_utc\": \"2022-09-29T21:02:38.000\""
      ]
     },
     "execution_count": 25,
     "metadata": {},
     "output_type": "execute_result"
    }
   ],
   "source": [
    "sigproc_object.write_header(\"foo.fil\")\n",
    "Your(\"foo.fil\").your_header\n"
   ]
  },
  {
   "cell_type": "markdown",
   "id": "578bb39e-76fe-4ead-9b04-86137f7e1697",
   "metadata": {
    "jp-MarkdownHeadingCollapsed": true
   },
   "source": [
    "##### Here I'm triying to read it with Sigpyproc and it fails, so there's some problem with the way the header was writen\n"
   ]
  },
  {
   "cell_type": "code",
   "execution_count": 62,
   "id": "40404ae0-780f-4488-894c-1e908f598c45",
   "metadata": {},
   "outputs": [
    {
     "ename": "ValueError",
     "evalue": "Cannot parse first argument data \"0 2 72.46283333000002\" for attribute ra",
     "output_type": "error",
     "traceback": [
      "\u001b[0;31m---------------------------------------------------------------------------\u001b[0m",
      "\u001b[0;31mIllegalSecondError\u001b[0m                        Traceback (most recent call last)",
      "File \u001b[0;32m~/miniconda3/lib/python3.11/site-packages/astropy/coordinates/sky_coordinate_parsers.py:613\u001b[0m, in \u001b[0;36m_parse_coordinate_arg\u001b[0;34m(coords, frame, units, init_kwargs)\u001b[0m\n\u001b[1;32m    610\u001b[0m     \u001b[38;5;28;01mfor\u001b[39;00m frame_attr_name, repr_attr_class, value, unit \u001b[38;5;129;01min\u001b[39;00m \u001b[38;5;28mzip\u001b[39m(\n\u001b[1;32m    611\u001b[0m         frame_attr_names, repr_attr_classes, values, units\n\u001b[1;32m    612\u001b[0m     ):\n\u001b[0;32m--> 613\u001b[0m         components[frame_attr_name] \u001b[38;5;241m=\u001b[39m repr_attr_class(value, unit\u001b[38;5;241m=\u001b[39munit, copy\u001b[38;5;241m=\u001b[39m\u001b[38;5;28;01mFalse\u001b[39;00m)\n\u001b[1;32m    614\u001b[0m \u001b[38;5;28;01mexcept\u001b[39;00m \u001b[38;5;167;01mException\u001b[39;00m \u001b[38;5;28;01mas\u001b[39;00m err:\n",
      "File \u001b[0;32m~/miniconda3/lib/python3.11/site-packages/astropy/coordinates/angles.py:667\u001b[0m, in \u001b[0;36mLongitude.__new__\u001b[0;34m(cls, angle, unit, wrap_angle, **kwargs)\u001b[0m\n\u001b[1;32m    664\u001b[0m     \u001b[38;5;28;01mraise\u001b[39;00m \u001b[38;5;167;01mTypeError\u001b[39;00m(\n\u001b[1;32m    665\u001b[0m         \u001b[38;5;124m\"\u001b[39m\u001b[38;5;124mA Longitude angle cannot be created from a Latitude angle.\u001b[39m\u001b[38;5;124m\"\u001b[39m\n\u001b[1;32m    666\u001b[0m     )\n\u001b[0;32m--> 667\u001b[0m \u001b[38;5;28mself\u001b[39m \u001b[38;5;241m=\u001b[39m \u001b[38;5;28msuper\u001b[39m()\u001b[38;5;241m.\u001b[39m\u001b[38;5;21m__new__\u001b[39m(\u001b[38;5;28mcls\u001b[39m, angle, unit\u001b[38;5;241m=\u001b[39munit, \u001b[38;5;241m*\u001b[39m\u001b[38;5;241m*\u001b[39mkwargs)\n\u001b[1;32m    668\u001b[0m \u001b[38;5;28;01mif\u001b[39;00m wrap_angle \u001b[38;5;129;01mis\u001b[39;00m \u001b[38;5;28;01mNone\u001b[39;00m:\n",
      "File \u001b[0;32m~/miniconda3/lib/python3.11/site-packages/astropy/coordinates/angles.py:128\u001b[0m, in \u001b[0;36mAngle.__new__\u001b[0;34m(cls, angle, unit, dtype, copy, **kwargs)\u001b[0m\n\u001b[1;32m    127\u001b[0m \u001b[38;5;28;01mif\u001b[39;00m \u001b[38;5;28mlen\u001b[39m(angle) \u001b[38;5;241m==\u001b[39m \u001b[38;5;241m3\u001b[39m:\n\u001b[0;32m--> 128\u001b[0m     form\u001b[38;5;241m.\u001b[39m_check_second_range(angle[\u001b[38;5;241m2\u001b[39m])\n\u001b[1;32m    129\u001b[0m     a \u001b[38;5;241m+\u001b[39m\u001b[38;5;241m=\u001b[39m angle[\u001b[38;5;241m2\u001b[39m] \u001b[38;5;241m/\u001b[39m \u001b[38;5;241m3600.0\u001b[39m\n",
      "File \u001b[0;32m~/miniconda3/lib/python3.11/site-packages/astropy/coordinates/angle_formats.py:355\u001b[0m, in \u001b[0;36m_check_second_range\u001b[0;34m(sec)\u001b[0m\n\u001b[1;32m    353\u001b[0m \u001b[38;5;28;01melif\u001b[39;00m np\u001b[38;5;241m.\u001b[39many(sec \u001b[38;5;241m<\u001b[39m \u001b[38;5;241m-\u001b[39m\u001b[38;5;241m60.0\u001b[39m) \u001b[38;5;129;01mor\u001b[39;00m np\u001b[38;5;241m.\u001b[39many(sec \u001b[38;5;241m>\u001b[39m \u001b[38;5;241m60.0\u001b[39m):\n\u001b[1;32m    354\u001b[0m     \u001b[38;5;66;03m# \"Error: seconds not in range [-60,60) ({0}).\".format(sec))\u001b[39;00m\n\u001b[0;32m--> 355\u001b[0m     \u001b[38;5;28;01mraise\u001b[39;00m IllegalSecondError(sec)\n",
      "\u001b[0;31mIllegalSecondError\u001b[0m: An invalid value for 'second' was found ('72.46283333000002'); should be in the range [0,60).",
      "\nThe above exception was the direct cause of the following exception:\n",
      "\u001b[0;31mValueError\u001b[0m                                Traceback (most recent call last)",
      "Cell \u001b[0;32mIn[62], line 1\u001b[0m\n\u001b[0;32m----> 1\u001b[0m FilReader(\u001b[38;5;124m\"\u001b[39m\u001b[38;5;124mfoo.fil\u001b[39m\u001b[38;5;124m\"\u001b[39m)\u001b[38;5;241m.\u001b[39mheader\n",
      "File \u001b[0;32m~/miniconda3/lib/python3.11/site-packages/sigpyproc/readers.py:42\u001b[0m, in \u001b[0;36mFilReader.__init__\u001b[0;34m(self, filenames, check_contiguity)\u001b[0m\n\u001b[1;32m     40\u001b[0m     filenames \u001b[38;5;241m=\u001b[39m [filenames]\n\u001b[1;32m     41\u001b[0m \u001b[38;5;28mself\u001b[39m\u001b[38;5;241m.\u001b[39m_filenames \u001b[38;5;241m=\u001b[39m filenames\n\u001b[0;32m---> 42\u001b[0m \u001b[38;5;28mself\u001b[39m\u001b[38;5;241m.\u001b[39m_header \u001b[38;5;241m=\u001b[39m Header\u001b[38;5;241m.\u001b[39mfrom_sigproc(\n\u001b[1;32m     43\u001b[0m     \u001b[38;5;28mself\u001b[39m\u001b[38;5;241m.\u001b[39m_filenames, check_contiguity\u001b[38;5;241m=\u001b[39mcheck_contiguity\n\u001b[1;32m     44\u001b[0m )\n\u001b[1;32m     45\u001b[0m \u001b[38;5;28mself\u001b[39m\u001b[38;5;241m.\u001b[39m_file \u001b[38;5;241m=\u001b[39m FileReader(\n\u001b[1;32m     46\u001b[0m     \u001b[38;5;28mself\u001b[39m\u001b[38;5;241m.\u001b[39m_filenames,\n\u001b[1;32m     47\u001b[0m     \u001b[38;5;28mself\u001b[39m\u001b[38;5;241m.\u001b[39mheader\u001b[38;5;241m.\u001b[39mhdrlens,\n\u001b[0;32m   (...)\u001b[0m\n\u001b[1;32m     50\u001b[0m     nbits\u001b[38;5;241m=\u001b[39m\u001b[38;5;28mself\u001b[39m\u001b[38;5;241m.\u001b[39mheader\u001b[38;5;241m.\u001b[39mnbits,\n\u001b[1;32m     51\u001b[0m )\n\u001b[1;32m     52\u001b[0m \u001b[38;5;28msuper\u001b[39m()\u001b[38;5;241m.\u001b[39m\u001b[38;5;21m__init__\u001b[39m()\n",
      "File \u001b[0;32m~/miniconda3/lib/python3.11/site-packages/sigpyproc/header.py:525\u001b[0m, in \u001b[0;36mHeader.from_sigproc\u001b[0;34m(cls, filenames, check_contiguity)\u001b[0m\n\u001b[1;32m    516\u001b[0m frame \u001b[38;5;241m=\u001b[39m \u001b[38;5;124m\"\u001b[39m\u001b[38;5;124mpulsarcentric\u001b[39m\u001b[38;5;124m\"\u001b[39m \u001b[38;5;28;01mif\u001b[39;00m header\u001b[38;5;241m.\u001b[39mget(\u001b[38;5;124m\"\u001b[39m\u001b[38;5;124mpulsarcentric\u001b[39m\u001b[38;5;124m\"\u001b[39m) \u001b[38;5;28;01melse\u001b[39;00m \u001b[38;5;124m\"\u001b[39m\u001b[38;5;124mtopocentric\u001b[39m\u001b[38;5;124m\"\u001b[39m\n\u001b[1;32m    517\u001b[0m frame \u001b[38;5;241m=\u001b[39m \u001b[38;5;124m\"\u001b[39m\u001b[38;5;124mbarycentric\u001b[39m\u001b[38;5;124m\"\u001b[39m \u001b[38;5;28;01mif\u001b[39;00m header\u001b[38;5;241m.\u001b[39mget(\u001b[38;5;124m\"\u001b[39m\u001b[38;5;124mbarycentric\u001b[39m\u001b[38;5;124m\"\u001b[39m) \u001b[38;5;28;01melse\u001b[39;00m \u001b[38;5;124m\"\u001b[39m\u001b[38;5;124mtopocentric\u001b[39m\u001b[38;5;124m\"\u001b[39m\n\u001b[1;32m    518\u001b[0m hdr_update \u001b[38;5;241m=\u001b[39m {\n\u001b[1;32m    519\u001b[0m     \u001b[38;5;124m\"\u001b[39m\u001b[38;5;124mdata_type\u001b[39m\u001b[38;5;124m\"\u001b[39m: params\u001b[38;5;241m.\u001b[39mdata_types[header\u001b[38;5;241m.\u001b[39mget(\u001b[38;5;124m\"\u001b[39m\u001b[38;5;124mdata_type\u001b[39m\u001b[38;5;124m\"\u001b[39m, \u001b[38;5;241m1\u001b[39m)],\n\u001b[1;32m    520\u001b[0m     \u001b[38;5;124m\"\u001b[39m\u001b[38;5;124mtelescope\u001b[39m\u001b[38;5;124m\"\u001b[39m: sigproc\u001b[38;5;241m.\u001b[39mtelescope_ids\u001b[38;5;241m.\u001b[39minv\u001b[38;5;241m.\u001b[39mget(header\u001b[38;5;241m.\u001b[39mget(\u001b[38;5;124m\"\u001b[39m\u001b[38;5;124mtelescope_id\u001b[39m\u001b[38;5;124m\"\u001b[39m, \u001b[38;5;241m0\u001b[39m), \u001b[38;5;124m\"\u001b[39m\u001b[38;5;124mFake\u001b[39m\u001b[38;5;124m\"\u001b[39m),\n\u001b[1;32m    521\u001b[0m     \u001b[38;5;124m\"\u001b[39m\u001b[38;5;124mbackend\u001b[39m\u001b[38;5;124m\"\u001b[39m: sigproc\u001b[38;5;241m.\u001b[39mmachine_ids\u001b[38;5;241m.\u001b[39minv\u001b[38;5;241m.\u001b[39mget(header\u001b[38;5;241m.\u001b[39mget(\u001b[38;5;124m\"\u001b[39m\u001b[38;5;124mmachine_id\u001b[39m\u001b[38;5;124m\"\u001b[39m, \u001b[38;5;241m0\u001b[39m), \u001b[38;5;124m\"\u001b[39m\u001b[38;5;124mFAKE\u001b[39m\u001b[38;5;124m\"\u001b[39m),\n\u001b[1;32m    522\u001b[0m     \u001b[38;5;124m\"\u001b[39m\u001b[38;5;124msource\u001b[39m\u001b[38;5;124m\"\u001b[39m: header\u001b[38;5;241m.\u001b[39mget(\u001b[38;5;124m\"\u001b[39m\u001b[38;5;124msource_name\u001b[39m\u001b[38;5;124m\"\u001b[39m, \u001b[38;5;124m\"\u001b[39m\u001b[38;5;124mFake\u001b[39m\u001b[38;5;124m\"\u001b[39m),\n\u001b[1;32m    523\u001b[0m     \u001b[38;5;124m\"\u001b[39m\u001b[38;5;124mdm\u001b[39m\u001b[38;5;124m\"\u001b[39m: header\u001b[38;5;241m.\u001b[39mget(\u001b[38;5;124m\"\u001b[39m\u001b[38;5;124mrefdm\u001b[39m\u001b[38;5;124m\"\u001b[39m, \u001b[38;5;241m0\u001b[39m),\n\u001b[1;32m    524\u001b[0m     \u001b[38;5;124m\"\u001b[39m\u001b[38;5;124mfoff\u001b[39m\u001b[38;5;124m\"\u001b[39m: header\u001b[38;5;241m.\u001b[39mget(\u001b[38;5;124m\"\u001b[39m\u001b[38;5;124mfoff\u001b[39m\u001b[38;5;124m\"\u001b[39m, \u001b[38;5;241m0\u001b[39m),\n\u001b[0;32m--> 525\u001b[0m     \u001b[38;5;124m\"\u001b[39m\u001b[38;5;124mcoord\u001b[39m\u001b[38;5;124m\"\u001b[39m: sigproc\u001b[38;5;241m.\u001b[39mparse_radec(\n\u001b[1;32m    526\u001b[0m         header\u001b[38;5;241m.\u001b[39mget(\u001b[38;5;124m\"\u001b[39m\u001b[38;5;124msrc_raj\u001b[39m\u001b[38;5;124m\"\u001b[39m, \u001b[38;5;241m0\u001b[39m), header\u001b[38;5;241m.\u001b[39mget(\u001b[38;5;124m\"\u001b[39m\u001b[38;5;124msrc_dej\u001b[39m\u001b[38;5;124m\"\u001b[39m, \u001b[38;5;241m0\u001b[39m)\n\u001b[1;32m    527\u001b[0m     ),\n\u001b[1;32m    528\u001b[0m     \u001b[38;5;124m\"\u001b[39m\u001b[38;5;124mazimuth\u001b[39m\u001b[38;5;124m\"\u001b[39m: Angle(header\u001b[38;5;241m.\u001b[39mget(\u001b[38;5;124m\"\u001b[39m\u001b[38;5;124maz_start\u001b[39m\u001b[38;5;124m\"\u001b[39m, \u001b[38;5;241m0\u001b[39m) \u001b[38;5;241m*\u001b[39m units\u001b[38;5;241m.\u001b[39mdeg),\n\u001b[1;32m    529\u001b[0m     \u001b[38;5;124m\"\u001b[39m\u001b[38;5;124mzenith\u001b[39m\u001b[38;5;124m\"\u001b[39m: Angle(header\u001b[38;5;241m.\u001b[39mget(\u001b[38;5;124m\"\u001b[39m\u001b[38;5;124mza_start\u001b[39m\u001b[38;5;124m\"\u001b[39m, \u001b[38;5;241m0\u001b[39m) \u001b[38;5;241m*\u001b[39m units\u001b[38;5;241m.\u001b[39mdeg),\n\u001b[1;32m    530\u001b[0m     \u001b[38;5;124m\"\u001b[39m\u001b[38;5;124mframe\u001b[39m\u001b[38;5;124m\"\u001b[39m: frame,\n\u001b[1;32m    531\u001b[0m }\n\u001b[1;32m    532\u001b[0m header\u001b[38;5;241m.\u001b[39mupdate(hdr_update)\n\u001b[1;32m    533\u001b[0m header_check \u001b[38;5;241m=\u001b[39m {\n\u001b[1;32m    534\u001b[0m     key: value\n\u001b[1;32m    535\u001b[0m     \u001b[38;5;28;01mfor\u001b[39;00m key, value \u001b[38;5;129;01min\u001b[39;00m header\u001b[38;5;241m.\u001b[39mitems()\n\u001b[1;32m    536\u001b[0m     \u001b[38;5;28;01mif\u001b[39;00m key \u001b[38;5;129;01min\u001b[39;00m attrs\u001b[38;5;241m.\u001b[39mfields_dict(\u001b[38;5;28mcls\u001b[39m)\u001b[38;5;241m.\u001b[39mkeys()\n\u001b[1;32m    537\u001b[0m }\n",
      "File \u001b[0;32m~/miniconda3/lib/python3.11/site-packages/sigpyproc/io/sigproc.py:332\u001b[0m, in \u001b[0;36mparse_radec\u001b[0;34m(src_raj, src_dej)\u001b[0m\n\u001b[1;32m    329\u001b[0m ami, ase \u001b[38;5;241m=\u001b[39m \u001b[38;5;28mdivmod\u001b[39m(ami, \u001b[38;5;241m100\u001b[39m)\n\u001b[1;32m    331\u001b[0m radec_str \u001b[38;5;241m=\u001b[39m \u001b[38;5;124mf\u001b[39m\u001b[38;5;124m\"\u001b[39m\u001b[38;5;132;01m{\u001b[39;00m\u001b[38;5;28mint\u001b[39m(ho)\u001b[38;5;132;01m}\u001b[39;00m\u001b[38;5;124m \u001b[39m\u001b[38;5;132;01m{\u001b[39;00m\u001b[38;5;28mint\u001b[39m(mi)\u001b[38;5;132;01m}\u001b[39;00m\u001b[38;5;124m \u001b[39m\u001b[38;5;132;01m{\u001b[39;00mse\u001b[38;5;132;01m}\u001b[39;00m\u001b[38;5;124m \u001b[39m\u001b[38;5;132;01m{\u001b[39;00msign\u001b[38;5;241m*\u001b[39m\u001b[38;5;250m \u001b[39m\u001b[38;5;28mint\u001b[39m(de)\u001b[38;5;132;01m}\u001b[39;00m\u001b[38;5;124m \u001b[39m\u001b[38;5;132;01m{\u001b[39;00m\u001b[38;5;28mint\u001b[39m(ami)\u001b[38;5;132;01m}\u001b[39;00m\u001b[38;5;124m \u001b[39m\u001b[38;5;132;01m{\u001b[39;00mase\u001b[38;5;132;01m}\u001b[39;00m\u001b[38;5;124m\"\u001b[39m\n\u001b[0;32m--> 332\u001b[0m \u001b[38;5;28;01mreturn\u001b[39;00m SkyCoord(radec_str, unit\u001b[38;5;241m=\u001b[39m(units\u001b[38;5;241m.\u001b[39mhourangle, units\u001b[38;5;241m.\u001b[39mdeg))\n",
      "File \u001b[0;32m~/miniconda3/lib/python3.11/site-packages/astropy/coordinates/sky_coordinate.py:339\u001b[0m, in \u001b[0;36mSkyCoord.__init__\u001b[0;34m(self, copy, *args, **kwargs)\u001b[0m\n\u001b[1;32m    335\u001b[0m \u001b[38;5;66;03m# Parse the args and kwargs to assemble a sanitized and validated\u001b[39;00m\n\u001b[1;32m    336\u001b[0m \u001b[38;5;66;03m# kwargs dict for initializing attributes for this object and for\u001b[39;00m\n\u001b[1;32m    337\u001b[0m \u001b[38;5;66;03m# creating the internal self._sky_coord_frame object\u001b[39;00m\n\u001b[1;32m    338\u001b[0m args \u001b[38;5;241m=\u001b[39m \u001b[38;5;28mlist\u001b[39m(args)  \u001b[38;5;66;03m# Make it mutable\u001b[39;00m\n\u001b[0;32m--> 339\u001b[0m skycoord_kwargs, components, info \u001b[38;5;241m=\u001b[39m _parse_coordinate_data(\n\u001b[1;32m    340\u001b[0m     frame_cls(\u001b[38;5;241m*\u001b[39m\u001b[38;5;241m*\u001b[39mframe_kwargs), args, kwargs\n\u001b[1;32m    341\u001b[0m )\n\u001b[1;32m    343\u001b[0m \u001b[38;5;66;03m# In the above two parsing functions, these kwargs were identified\u001b[39;00m\n\u001b[1;32m    344\u001b[0m \u001b[38;5;66;03m# as valid frame attributes for *some* frame, but not the frame that\u001b[39;00m\n\u001b[1;32m    345\u001b[0m \u001b[38;5;66;03m# this SkyCoord will have. We keep these attributes as special\u001b[39;00m\n\u001b[1;32m    346\u001b[0m \u001b[38;5;66;03m# skycoord frame attributes:\u001b[39;00m\n\u001b[1;32m    347\u001b[0m \u001b[38;5;28;01mfor\u001b[39;00m attr \u001b[38;5;129;01min\u001b[39;00m skycoord_kwargs:\n\u001b[1;32m    348\u001b[0m     \u001b[38;5;66;03m# Setting it will also validate it.\u001b[39;00m\n",
      "File \u001b[0;32m~/miniconda3/lib/python3.11/site-packages/astropy/coordinates/sky_coordinate_parsers.py:294\u001b[0m, in \u001b[0;36m_parse_coordinate_data\u001b[0;34m(frame, args, kwargs)\u001b[0m\n\u001b[1;32m    288\u001b[0m \u001b[38;5;28;01mif\u001b[39;00m args:\n\u001b[1;32m    289\u001b[0m     \u001b[38;5;28;01mif\u001b[39;00m \u001b[38;5;28mlen\u001b[39m(args) \u001b[38;5;241m==\u001b[39m \u001b[38;5;241m1\u001b[39m:\n\u001b[1;32m    290\u001b[0m         \u001b[38;5;66;03m# One arg which must be a coordinate.  In this case coord_kwargs\u001b[39;00m\n\u001b[1;32m    291\u001b[0m         \u001b[38;5;66;03m# will contain keys like 'ra', 'dec', 'distance' along with any\u001b[39;00m\n\u001b[1;32m    292\u001b[0m         \u001b[38;5;66;03m# frame attributes like equinox or obstime which were explicitly\u001b[39;00m\n\u001b[1;32m    293\u001b[0m         \u001b[38;5;66;03m# specified in the coordinate object (i.e. non-default).\u001b[39;00m\n\u001b[0;32m--> 294\u001b[0m         _skycoord_kwargs, _components \u001b[38;5;241m=\u001b[39m _parse_coordinate_arg(\n\u001b[1;32m    295\u001b[0m             args[\u001b[38;5;241m0\u001b[39m], frame, units, kwargs\n\u001b[1;32m    296\u001b[0m         )\n\u001b[1;32m    298\u001b[0m         \u001b[38;5;66;03m# Copy other 'info' attr only if it has actually been defined.\u001b[39;00m\n\u001b[1;32m    299\u001b[0m         \u001b[38;5;28;01mif\u001b[39;00m \u001b[38;5;124m\"\u001b[39m\u001b[38;5;124minfo\u001b[39m\u001b[38;5;124m\"\u001b[39m \u001b[38;5;129;01min\u001b[39;00m \u001b[38;5;28mgetattr\u001b[39m(args[\u001b[38;5;241m0\u001b[39m], \u001b[38;5;124m\"\u001b[39m\u001b[38;5;124m__dict__\u001b[39m\u001b[38;5;124m\"\u001b[39m, ()):\n",
      "File \u001b[0;32m~/miniconda3/lib/python3.11/site-packages/astropy/coordinates/sky_coordinate_parsers.py:615\u001b[0m, in \u001b[0;36m_parse_coordinate_arg\u001b[0;34m(coords, frame, units, init_kwargs)\u001b[0m\n\u001b[1;32m    613\u001b[0m         components[frame_attr_name] \u001b[38;5;241m=\u001b[39m repr_attr_class(value, unit\u001b[38;5;241m=\u001b[39munit, copy\u001b[38;5;241m=\u001b[39m\u001b[38;5;28;01mFalse\u001b[39;00m)\n\u001b[1;32m    614\u001b[0m \u001b[38;5;28;01mexcept\u001b[39;00m \u001b[38;5;167;01mException\u001b[39;00m \u001b[38;5;28;01mas\u001b[39;00m err:\n\u001b[0;32m--> 615\u001b[0m     \u001b[38;5;28;01mraise\u001b[39;00m \u001b[38;5;167;01mValueError\u001b[39;00m(\n\u001b[1;32m    616\u001b[0m         \u001b[38;5;124mf\u001b[39m\u001b[38;5;124m'\u001b[39m\u001b[38;5;124mCannot parse first argument data \u001b[39m\u001b[38;5;124m\"\u001b[39m\u001b[38;5;132;01m{\u001b[39;00mvalue\u001b[38;5;132;01m}\u001b[39;00m\u001b[38;5;124m\"\u001b[39m\u001b[38;5;124m for attribute\u001b[39m\u001b[38;5;124m'\u001b[39m\n\u001b[1;32m    617\u001b[0m         \u001b[38;5;124mf\u001b[39m\u001b[38;5;124m\"\u001b[39m\u001b[38;5;124m \u001b[39m\u001b[38;5;132;01m{\u001b[39;00mframe_attr_name\u001b[38;5;132;01m}\u001b[39;00m\u001b[38;5;124m\"\u001b[39m\n\u001b[1;32m    618\u001b[0m     ) \u001b[38;5;28;01mfrom\u001b[39;00m \u001b[38;5;21;01merr\u001b[39;00m\n\u001b[1;32m    619\u001b[0m \u001b[38;5;28;01mreturn\u001b[39;00m skycoord_kwargs, components\n",
      "\u001b[0;31mValueError\u001b[0m: Cannot parse first argument data \"0 2 72.46283333000002\" for attribute ra"
     ]
    }
   ],
   "source": [
    "FilReader(\"foo.fil\").header"
   ]
  },
  {
   "cell_type": "markdown",
   "id": "3b3a2b0e-60a6-4d93-8571-338460ad9e81",
   "metadata": {
    "jp-MarkdownHeadingCollapsed": true
   },
   "source": [
    "#### After not getting the right header, I tried with your.Writer, and I had the same problem that with sigpyproc, so it wasn't a solution"
   ]
  },
  {
   "cell_type": "markdown",
   "id": "d30699ec-34b1-48b7-9816-bba43182a719",
   "metadata": {},
   "source": [
    "I can specify if the highest_frequency is the first, and the channels, which one is fist or not. But when triying this, I coulnd't get the right frequency interval that we observed"
   ]
  },
  {
   "cell_type": "code",
   "execution_count": 39,
   "id": "22e26748-a191-4a43-af0c-bedf9ca071cb",
   "metadata": {},
   "outputs": [
    {
     "data": {
      "text/plain": [
       "\u001b[0;31mInit signature:\u001b[0m\n",
       "\u001b[0mWriter\u001b[0m\u001b[0;34m(\u001b[0m\u001b[0;34m\u001b[0m\n",
       "\u001b[0;34m\u001b[0m    \u001b[0myour_object\u001b[0m\u001b[0;34m,\u001b[0m\u001b[0;34m\u001b[0m\n",
       "\u001b[0;34m\u001b[0m    \u001b[0mnstart\u001b[0m\u001b[0;34m=\u001b[0m\u001b[0;36m0\u001b[0m\u001b[0;34m,\u001b[0m\u001b[0;34m\u001b[0m\n",
       "\u001b[0;34m\u001b[0m    \u001b[0mnsamp\u001b[0m\u001b[0;34m=\u001b[0m\u001b[0;32mNone\u001b[0m\u001b[0;34m,\u001b[0m\u001b[0;34m\u001b[0m\n",
       "\u001b[0;34m\u001b[0m    \u001b[0mc_min\u001b[0m\u001b[0;34m=\u001b[0m\u001b[0;32mNone\u001b[0m\u001b[0;34m,\u001b[0m\u001b[0;34m\u001b[0m\n",
       "\u001b[0;34m\u001b[0m    \u001b[0mc_max\u001b[0m\u001b[0;34m=\u001b[0m\u001b[0;32mNone\u001b[0m\u001b[0;34m,\u001b[0m\u001b[0;34m\u001b[0m\n",
       "\u001b[0;34m\u001b[0m    \u001b[0mnpoln\u001b[0m\u001b[0;34m=\u001b[0m\u001b[0;36m1\u001b[0m\u001b[0;34m,\u001b[0m\u001b[0;34m\u001b[0m\n",
       "\u001b[0;34m\u001b[0m    \u001b[0mhighest_frequency_first\u001b[0m\u001b[0;34m=\u001b[0m\u001b[0;32mFalse\u001b[0m\u001b[0;34m,\u001b[0m\u001b[0;34m\u001b[0m\n",
       "\u001b[0;34m\u001b[0m    \u001b[0moutdir\u001b[0m\u001b[0;34m=\u001b[0m\u001b[0;32mNone\u001b[0m\u001b[0;34m,\u001b[0m\u001b[0;34m\u001b[0m\n",
       "\u001b[0;34m\u001b[0m    \u001b[0moutname\u001b[0m\u001b[0;34m=\u001b[0m\u001b[0;32mNone\u001b[0m\u001b[0;34m,\u001b[0m\u001b[0;34m\u001b[0m\n",
       "\u001b[0;34m\u001b[0m    \u001b[0mflag_rfi\u001b[0m\u001b[0;34m=\u001b[0m\u001b[0;32mFalse\u001b[0m\u001b[0;34m,\u001b[0m\u001b[0;34m\u001b[0m\n",
       "\u001b[0;34m\u001b[0m    \u001b[0mprogress\u001b[0m\u001b[0;34m=\u001b[0m\u001b[0;32mTrue\u001b[0m\u001b[0;34m,\u001b[0m\u001b[0;34m\u001b[0m\n",
       "\u001b[0;34m\u001b[0m    \u001b[0mspectral_kurtosis_sigma\u001b[0m\u001b[0;34m=\u001b[0m\u001b[0;36m4\u001b[0m\u001b[0;34m,\u001b[0m\u001b[0;34m\u001b[0m\n",
       "\u001b[0;34m\u001b[0m    \u001b[0msavgol_frequency_window\u001b[0m\u001b[0;34m=\u001b[0m\u001b[0;36m15\u001b[0m\u001b[0;34m,\u001b[0m\u001b[0;34m\u001b[0m\n",
       "\u001b[0;34m\u001b[0m    \u001b[0msavgol_sigma\u001b[0m\u001b[0;34m=\u001b[0m\u001b[0;36m4\u001b[0m\u001b[0;34m,\u001b[0m\u001b[0;34m\u001b[0m\n",
       "\u001b[0;34m\u001b[0m    \u001b[0mgulp\u001b[0m\u001b[0;34m=\u001b[0m\u001b[0;32mNone\u001b[0m\u001b[0;34m,\u001b[0m\u001b[0;34m\u001b[0m\n",
       "\u001b[0;34m\u001b[0m    \u001b[0mzero_dm_subt\u001b[0m\u001b[0;34m=\u001b[0m\u001b[0;32mFalse\u001b[0m\u001b[0;34m,\u001b[0m\u001b[0;34m\u001b[0m\n",
       "\u001b[0;34m\u001b[0m    \u001b[0mtime_decimation_factor\u001b[0m\u001b[0;34m=\u001b[0m\u001b[0;36m1\u001b[0m\u001b[0;34m,\u001b[0m\u001b[0;34m\u001b[0m\n",
       "\u001b[0;34m\u001b[0m    \u001b[0mfrequency_decimation_factor\u001b[0m\u001b[0;34m=\u001b[0m\u001b[0;36m1\u001b[0m\u001b[0;34m,\u001b[0m\u001b[0;34m\u001b[0m\n",
       "\u001b[0;34m\u001b[0m    \u001b[0mreplacement_policy\u001b[0m\u001b[0;34m=\u001b[0m\u001b[0;34m'mean'\u001b[0m\u001b[0;34m,\u001b[0m\u001b[0;34m\u001b[0m\n",
       "\u001b[0;34m\u001b[0m\u001b[0;34m)\u001b[0m\u001b[0;34m\u001b[0m\u001b[0;34m\u001b[0m\u001b[0m\n",
       "\u001b[0;31mDocstring:\u001b[0m     \n",
       "The unified writer class.\n",
       "\n",
       "Args:\n",
       "\n",
       "    your_object: Your object\n",
       "    nstart (int): Start sample to read from\n",
       "    nsamp (int): Number of samples to write\n",
       "    c_min (int): Starting channel index (default: 0)\n",
       "    c_max (int): End channel index (default: total number of frequencies)\n",
       "    npoln (int): Number of output polarisations (default: 1)\n",
       "    highest_frequency_first (bool): The output should have highest frequency first (default: False)\n",
       "    outdir (str): Output directory for file\n",
       "    outname (str): Name of the file to write to (without the file extension)\n",
       "    progress (bool): Set to it to false to disable progress bars\n",
       "    flag_rfi (bool): To turn on RFI flagging\n",
       "    spectral_kurtosis_sigma (float): Sigma for spectral kurtosis filter\n",
       "    savgol_frequency_window (float): Filter window for savgol filter\n",
       "    savgol_sigma (float):  Sigma for savgol filter\n",
       "    gulp (int): Gulp size for the data\n",
       "    zero_dm_subt (bool): Enable zero DM rfi excision\n",
       "    time_decimation_factor (int): Time Decimation Factor (in number of samples)\n",
       "    frequency_decimation_factor (int): Frequency Decimation Factor (in number of samples)\n",
       "    replacement_policy (str): Replace flagged values with mean, median or zeros.\n",
       "\u001b[0;31mFile:\u001b[0m           ~/miniconda3/lib/python3.11/site-packages/your/writer.py\n",
       "\u001b[0;31mType:\u001b[0m           type\n",
       "\u001b[0;31mSubclasses:\u001b[0m     "
      ]
     },
     "metadata": {},
     "output_type": "display_data"
    }
   ],
   "source": [
    "Writer?"
   ]
  },
  {
   "cell_type": "code",
   "execution_count": 51,
   "id": "8c1df08f-fb83-48c7-93d8-4786dfd1bdf1",
   "metadata": {},
   "outputs": [],
   "source": [
    "writer_object = Writer(\n",
    "    ...: Your(path_fil_original),\n",
    "    ...: nstart=0,\n",
    "    ...: nsamp=15360,\n",
    "    ...: c_min=31,\n",
    "    ...: c_max=0,\n",
    "    ...: highest_frequency_first=True,\n",
    "    ...: outdir =\"./\",\n",
    "    ...: outname = \"filfromfil2\",\n",
    "    ...: )\n"
   ]
  },
  {
   "cell_type": "code",
   "execution_count": 52,
   "id": "94c5487e-becd-47fc-92af-37c95357889d",
   "metadata": {},
   "outputs": [
    {
     "data": {
      "application/vnd.jupyter.widget-view+json": {
       "model_id": "d7b2200a4c4048b1a0425df7fc9b2566",
       "version_major": 2,
       "version_minor": 0
      },
      "text/plain": [
       "Output()"
      ]
     },
     "metadata": {},
     "output_type": "display_data"
    },
    {
     "data": {
      "text/html": [
       "<pre style=\"white-space:pre;overflow-x:auto;line-height:normal;font-family:Menlo,'DejaVu Sans Mono',consolas,'Courier New',monospace\"></pre>\n"
      ],
      "text/plain": []
     },
     "metadata": {},
     "output_type": "display_data"
    },
    {
     "data": {
      "text/html": [
       "<pre style=\"white-space:pre;overflow-x:auto;line-height:normal;font-family:Menlo,'DejaVu Sans Mono',consolas,'Courier New',monospace\">\n",
       "</pre>\n"
      ],
      "text/plain": [
       "\n"
      ]
     },
     "metadata": {},
     "output_type": "display_data"
    }
   ],
   "source": [
    "writer_object.to_fil()"
   ]
  },
  {
   "cell_type": "code",
   "execution_count": 54,
   "id": "2503f1ca-5af2-4694-a788-5e3398673a9c",
   "metadata": {},
   "outputs": [
    {
     "data": {
      "text/plain": [
       "Unified Header:\n",
       "  \"basename\": \"filfromfil2\"\n",
       "  \"bw\": -1.75\n",
       "  \"center_freq\": 1510.25\n",
       "  \"dec_deg\": -19.731091666666668\n",
       "  \"dtype\": \"float32\"\n",
       "  \"fch1\": 1510.25\n",
       "  \"filelist\": [\n",
       "    \"./filfromfil2.fil\"\n",
       "  ]\n",
       "  \"filename\": \"./filfromfil2.fil\"\n",
       "  \"foff\": -1.75\n",
       "  \"format\": \"fil\"\n",
       "  \"frequency_decimation_factor\": 1\n",
       "  \"gb\": -0.15836762417033684\n",
       "  \"gl\": -169.27316727335108\n",
       "  \"native_foff\": -1.75\n",
       "  \"native_nbits\": 32\n",
       "  \"native_nchans\": 1\n",
       "  \"native_nspectra\": 15360.0\n",
       "  \"native_tsamp\": 0.00014628571428571428\n",
       "  \"nbits\": 32\n",
       "  \"nchans\": 1\n",
       "  \"npol\": 1\n",
       "  \"nspectra\": 15360\n",
       "  \"poln_order\": \"I\"\n",
       "  \"ra_deg\": 272.4628333333333\n",
       "  \"source_name\": \"J1810-197_A2\"\n",
       "  \"time_decimation_factor\": 1\n",
       "  \"tsamp\": 0.00014628571428571428\n",
       "  \"tstart\": 59851.8768287037\n",
       "  \"tstart_utc\": \"2022-09-29T21:02:38.000\""
      ]
     },
     "execution_count": 54,
     "metadata": {},
     "output_type": "execute_result"
    }
   ],
   "source": [
    "Your(\"./filfromfil2.fil\").your_header\n",
    "#Let's remember that the central frequency is 1428.875 MHz"
   ]
  },
  {
   "cell_type": "code",
   "execution_count": 55,
   "id": "738a9f42-b493-4c64-86ff-a11375ff0557",
   "metadata": {},
   "outputs": [
    {
     "data": {
      "application/vnd.jupyter.widget-view+json": {
       "model_id": "79e04f1109c948d5a0c72870ae1acfd0",
       "version_major": 2,
       "version_minor": 0
      },
      "text/plain": [
       "Output()"
      ]
     },
     "metadata": {},
     "output_type": "display_data"
    },
    {
     "data": {
      "text/html": [
       "<pre style=\"white-space:pre;overflow-x:auto;line-height:normal;font-family:Menlo,'DejaVu Sans Mono',consolas,'Courier New',monospace\"></pre>\n"
      ],
      "text/plain": []
     },
     "metadata": {},
     "output_type": "display_data"
    },
    {
     "data": {
      "text/html": [
       "<pre style=\"white-space:pre;overflow-x:auto;line-height:normal;font-family:Menlo,'DejaVu Sans Mono',consolas,'Courier New',monospace\">\n",
       "</pre>\n"
      ],
      "text/plain": [
       "\n"
      ]
     },
     "metadata": {},
     "output_type": "display_data"
    },
    {
     "data": {
      "text/plain": [
       "Unified Header:\n",
       "  \"basename\": \"filfromfil3\"\n",
       "  \"bw\": -54.25\n",
       "  \"center_freq\": 1482.25\n",
       "  \"dec_deg\": -19.731091666666668\n",
       "  \"dtype\": \"float32\"\n",
       "  \"fch1\": 1508.5\n",
       "  \"filelist\": [\n",
       "    \"./filfromfil3.fil\"\n",
       "  ]\n",
       "  \"filename\": \"./filfromfil3.fil\"\n",
       "  \"foff\": -1.75\n",
       "  \"format\": \"fil\"\n",
       "  \"frequency_decimation_factor\": 1\n",
       "  \"gb\": -0.15836762417033684\n",
       "  \"gl\": -169.27316727335108\n",
       "  \"native_foff\": -1.75\n",
       "  \"native_nbits\": 32\n",
       "  \"native_nchans\": 31\n",
       "  \"native_nspectra\": 15360.0\n",
       "  \"native_tsamp\": 0.00014628571428571428\n",
       "  \"nbits\": 32\n",
       "  \"nchans\": 31\n",
       "  \"npol\": 1\n",
       "  \"nspectra\": 15360\n",
       "  \"poln_order\": \"I\"\n",
       "  \"ra_deg\": 272.4628333333333\n",
       "  \"source_name\": \"J1810-197_A2\"\n",
       "  \"time_decimation_factor\": 1\n",
       "  \"tsamp\": 0.00014628571428571428\n",
       "  \"tstart\": 59851.8768287037\n",
       "  \"tstart_utc\": \"2022-09-29T21:02:38.000\""
      ]
     },
     "execution_count": 55,
     "metadata": {},
     "output_type": "execute_result"
    }
   ],
   "source": [
    "writer_object = Writer(\n",
    "    ...: Your(path_fil_original),\n",
    "    ...: nstart=0,\n",
    "    ...: nsamp=15360,\n",
    "    ...: c_min=0,\n",
    "    ...: c_max=31,\n",
    "    ...: highest_frequency_first=True,\n",
    "    ...: outdir =\"./\",\n",
    "    ...: outname = \"filfromfil3\",\n",
    "    ...: )\n",
    "writer_object.to_fil()\n",
    "Your(\"./filfromfil3.fil\").your_header"
   ]
  },
  {
   "cell_type": "code",
   "execution_count": 56,
   "id": "ac875fa6-f12c-4258-9b3f-634177ef40b7",
   "metadata": {},
   "outputs": [
    {
     "data": {
      "application/vnd.jupyter.widget-view+json": {
       "model_id": "327d8611134f48febd8269660fe90b3c",
       "version_major": 2,
       "version_minor": 0
      },
      "text/plain": [
       "Output()"
      ]
     },
     "metadata": {},
     "output_type": "display_data"
    },
    {
     "data": {
      "text/html": [
       "<pre style=\"white-space:pre;overflow-x:auto;line-height:normal;font-family:Menlo,'DejaVu Sans Mono',consolas,'Courier New',monospace\"></pre>\n"
      ],
      "text/plain": []
     },
     "metadata": {},
     "output_type": "display_data"
    },
    {
     "data": {
      "text/html": [
       "<pre style=\"white-space:pre;overflow-x:auto;line-height:normal;font-family:Menlo,'DejaVu Sans Mono',consolas,'Courier New',monospace\">\n",
       "</pre>\n"
      ],
      "text/plain": [
       "\n"
      ]
     },
     "metadata": {},
     "output_type": "display_data"
    },
    {
     "data": {
      "text/plain": [
       "Unified Header:\n",
       "  \"basename\": \"filfromfil4\"\n",
       "  \"bw\": 54.25\n",
       "  \"center_freq\": 1482.25\n",
       "  \"dec_deg\": -19.731091666666668\n",
       "  \"dtype\": \"float32\"\n",
       "  \"fch1\": 1456.0\n",
       "  \"filelist\": [\n",
       "    \"./filfromfil4.fil\"\n",
       "  ]\n",
       "  \"filename\": \"./filfromfil4.fil\"\n",
       "  \"foff\": 1.75\n",
       "  \"format\": \"fil\"\n",
       "  \"frequency_decimation_factor\": 1\n",
       "  \"gb\": -0.15836762417033684\n",
       "  \"gl\": -169.27316727335108\n",
       "  \"native_foff\": 1.75\n",
       "  \"native_nbits\": 32\n",
       "  \"native_nchans\": 31\n",
       "  \"native_nspectra\": 15360.0\n",
       "  \"native_tsamp\": 0.00014628571428571428\n",
       "  \"nbits\": 32\n",
       "  \"nchans\": 31\n",
       "  \"npol\": 1\n",
       "  \"nspectra\": 15360\n",
       "  \"poln_order\": \"I\"\n",
       "  \"ra_deg\": 272.4628333333333\n",
       "  \"source_name\": \"J1810-197_A2\"\n",
       "  \"time_decimation_factor\": 1\n",
       "  \"tsamp\": 0.00014628571428571428\n",
       "  \"tstart\": 59851.8768287037\n",
       "  \"tstart_utc\": \"2022-09-29T21:02:38.000\""
      ]
     },
     "execution_count": 56,
     "metadata": {},
     "output_type": "execute_result"
    }
   ],
   "source": [
    "writer_object = Writer(\n",
    "    ...: Your(path_fil_original),\n",
    "    ...: nstart=0,\n",
    "    ...: nsamp=15360,\n",
    "    ...: c_min=0,\n",
    "    ...: c_max=31,\n",
    "    ...: highest_frequency_first=False,\n",
    "    ...: outdir =\"./\",\n",
    "    ...: outname = \"filfromfil4\",\n",
    "    ...: )\n",
    "writer_object.to_fil()\n",
    "Your(\"./filfromfil4.fil\").your_header"
   ]
  },
  {
   "cell_type": "code",
   "execution_count": 57,
   "id": "458834b7-f3c6-49ae-88fa-f70edcf60d20",
   "metadata": {},
   "outputs": [
    {
     "data": {
      "application/vnd.jupyter.widget-view+json": {
       "model_id": "8bbdeb4344794213b89ab050a74ee49c",
       "version_major": 2,
       "version_minor": 0
      },
      "text/plain": [
       "Output()"
      ]
     },
     "metadata": {},
     "output_type": "display_data"
    },
    {
     "data": {
      "text/html": [
       "<pre style=\"white-space:pre;overflow-x:auto;line-height:normal;font-family:Menlo,'DejaVu Sans Mono',consolas,'Courier New',monospace\"></pre>\n"
      ],
      "text/plain": []
     },
     "metadata": {},
     "output_type": "display_data"
    },
    {
     "data": {
      "text/html": [
       "<pre style=\"white-space:pre;overflow-x:auto;line-height:normal;font-family:Menlo,'DejaVu Sans Mono',consolas,'Courier New',monospace\">\n",
       "</pre>\n"
      ],
      "text/plain": [
       "\n"
      ]
     },
     "metadata": {},
     "output_type": "display_data"
    },
    {
     "data": {
      "text/plain": [
       "Unified Header:\n",
       "  \"basename\": \"filfromfil5\"\n",
       "  \"bw\": 1.75\n",
       "  \"center_freq\": 1510.25\n",
       "  \"dec_deg\": -19.731091666666668\n",
       "  \"dtype\": \"float32\"\n",
       "  \"fch1\": 1510.25\n",
       "  \"filelist\": [\n",
       "    \"./filfromfil5.fil\"\n",
       "  ]\n",
       "  \"filename\": \"./filfromfil5.fil\"\n",
       "  \"foff\": 1.75\n",
       "  \"format\": \"fil\"\n",
       "  \"frequency_decimation_factor\": 1\n",
       "  \"gb\": -0.15836762417033684\n",
       "  \"gl\": -169.27316727335108\n",
       "  \"native_foff\": 1.75\n",
       "  \"native_nbits\": 32\n",
       "  \"native_nchans\": 1\n",
       "  \"native_nspectra\": 15360.0\n",
       "  \"native_tsamp\": 0.00014628571428571428\n",
       "  \"nbits\": 32\n",
       "  \"nchans\": 1\n",
       "  \"npol\": 1\n",
       "  \"nspectra\": 15360\n",
       "  \"poln_order\": \"I\"\n",
       "  \"ra_deg\": 272.4628333333333\n",
       "  \"source_name\": \"J1810-197_A2\"\n",
       "  \"time_decimation_factor\": 1\n",
       "  \"tsamp\": 0.00014628571428571428\n",
       "  \"tstart\": 59851.8768287037\n",
       "  \"tstart_utc\": \"2022-09-29T21:02:38.000\""
      ]
     },
     "execution_count": 57,
     "metadata": {},
     "output_type": "execute_result"
    }
   ],
   "source": [
    "writer_object = Writer(\n",
    "    ...: Your(path_fil_original),\n",
    "    ...: nstart=0,\n",
    "    ...: nsamp=15360,\n",
    "    ...: c_min=31,\n",
    "    ...: c_max=0,\n",
    "    ...: highest_frequency_first=False,\n",
    "    ...: outdir =\"./\",\n",
    "    ...: outname = \"filfromfil5\",\n",
    "    ...: )\n",
    "writer_object.to_fil()\n",
    "Your(\"./filfromfil5.fil\").your_header"
   ]
  },
  {
   "cell_type": "code",
   "execution_count": null,
   "id": "e988f44f-5cb3-4fd7-8971-510c1aded8d7",
   "metadata": {},
   "outputs": [],
   "source": []
  }
 ],
 "metadata": {
  "kernelspec": {
   "display_name": "Python 3 (ipykernel)",
   "language": "python",
   "name": "python3"
  },
  "language_info": {
   "codemirror_mode": {
    "name": "ipython",
    "version": 3
   },
   "file_extension": ".py",
   "mimetype": "text/x-python",
   "name": "python",
   "nbconvert_exporter": "python",
   "pygments_lexer": "ipython3",
   "version": "3.11.5"
  }
 },
 "nbformat": 4,
 "nbformat_minor": 5
}
